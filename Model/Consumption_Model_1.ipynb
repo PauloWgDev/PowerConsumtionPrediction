{
 "cells": [
  {
   "cell_type": "markdown",
   "id": "b8021d37",
   "metadata": {},
   "source": [
    "# Reorder the dataset for convenience"
   ]
  },
  {
   "cell_type": "code",
   "execution_count": 1,
   "id": "d0f46298",
   "metadata": {},
   "outputs": [],
   "source": [
    "import pandas as pd\n",
    "import numpy as np"
   ]
  },
  {
   "cell_type": "code",
   "execution_count": 2,
   "id": "ee20b6da",
   "metadata": {},
   "outputs": [
    {
     "data": {
      "text/html": [
       "<div>\n",
       "<style scoped>\n",
       "    .dataframe tbody tr th:only-of-type {\n",
       "        vertical-align: middle;\n",
       "    }\n",
       "\n",
       "    .dataframe tbody tr th {\n",
       "        vertical-align: top;\n",
       "    }\n",
       "\n",
       "    .dataframe thead th {\n",
       "        text-align: right;\n",
       "    }\n",
       "</style>\n",
       "<table border=\"1\" class=\"dataframe\">\n",
       "  <thead>\n",
       "    <tr style=\"text-align: right;\">\n",
       "      <th></th>\n",
       "      <th>Station</th>\n",
       "      <th>gantry</th>\n",
       "      <th>Latitude</th>\n",
       "      <th>Longitude</th>\n",
       "      <th>Lane Count</th>\n",
       "      <th>Month</th>\n",
       "      <th>Estimated Monthly Consumption (kWh)</th>\n",
       "      <th>ClimateType</th>\n",
       "    </tr>\n",
       "  </thead>\n",
       "  <tbody>\n",
       "    <tr>\n",
       "      <th>0</th>\n",
       "      <td>后里</td>\n",
       "      <td>01F-104.5N</td>\n",
       "      <td>24.727131</td>\n",
       "      <td>120.951897</td>\n",
       "      <td>3.0</td>\n",
       "      <td>5</td>\n",
       "      <td>1738.5</td>\n",
       "      <td>-1</td>\n",
       "    </tr>\n",
       "    <tr>\n",
       "      <th>1</th>\n",
       "      <td>后里</td>\n",
       "      <td>01F-104.5N</td>\n",
       "      <td>24.727131</td>\n",
       "      <td>120.951897</td>\n",
       "      <td>3.0</td>\n",
       "      <td>6</td>\n",
       "      <td>1738.5</td>\n",
       "      <td>-1</td>\n",
       "    </tr>\n",
       "    <tr>\n",
       "      <th>2</th>\n",
       "      <td>后里</td>\n",
       "      <td>01F-104.5N</td>\n",
       "      <td>24.727131</td>\n",
       "      <td>120.951897</td>\n",
       "      <td>3.0</td>\n",
       "      <td>7</td>\n",
       "      <td>1908.0</td>\n",
       "      <td>-1</td>\n",
       "    </tr>\n",
       "    <tr>\n",
       "      <th>3</th>\n",
       "      <td>后里</td>\n",
       "      <td>01F-104.5N</td>\n",
       "      <td>24.727131</td>\n",
       "      <td>120.951897</td>\n",
       "      <td>3.0</td>\n",
       "      <td>8</td>\n",
       "      <td>1908.0</td>\n",
       "      <td>-1</td>\n",
       "    </tr>\n",
       "    <tr>\n",
       "      <th>4</th>\n",
       "      <td>后里</td>\n",
       "      <td>01F-104.5N</td>\n",
       "      <td>24.727131</td>\n",
       "      <td>120.951897</td>\n",
       "      <td>3.0</td>\n",
       "      <td>9</td>\n",
       "      <td>1796.0</td>\n",
       "      <td>-1</td>\n",
       "    </tr>\n",
       "  </tbody>\n",
       "</table>\n",
       "</div>"
      ],
      "text/plain": [
       "  Station      gantry   Latitude   Longitude  Lane Count  Month  \\\n",
       "0      后里  01F-104.5N  24.727131  120.951897         3.0      5   \n",
       "1      后里  01F-104.5N  24.727131  120.951897         3.0      6   \n",
       "2      后里  01F-104.5N  24.727131  120.951897         3.0      7   \n",
       "3      后里  01F-104.5N  24.727131  120.951897         3.0      8   \n",
       "4      后里  01F-104.5N  24.727131  120.951897         3.0      9   \n",
       "\n",
       "   Estimated Monthly Consumption (kWh)  ClimateType  \n",
       "0                               1738.5           -1  \n",
       "1                               1738.5           -1  \n",
       "2                               1908.0           -1  \n",
       "3                               1908.0           -1  \n",
       "4                               1796.0           -1  "
      ]
     },
     "execution_count": 2,
     "metadata": {},
     "output_type": "execute_result"
    }
   ],
   "source": [
    "path = \"../Clean Data/consumption_with_climate_label.csv\"\n",
    "df = pd.read_csv(path)\n",
    "\n",
    "df.head"
   ]
  },
  {
   "cell_type": "code",
   "execution_count": 3,
   "id": "3a559ca8",
   "metadata": {},
   "outputs": [
    {
     "data": {
      "text/html": [
       "<div>\n",
       "<style scoped>\n",
       "    .dataframe tbody tr th:only-of-type {\n",
       "        vertical-align: middle;\n",
       "    }\n",
       "\n",
       "    .dataframe tbody tr th {\n",
       "        vertical-align: top;\n",
       "    }\n",
       "\n",
       "    .dataframe thead th {\n",
       "        text-align: right;\n",
       "    }\n",
       "</style>\n",
       "<table border=\"1\" class=\"dataframe\">\n",
       "  <thead>\n",
       "    <tr style=\"text-align: right;\">\n",
       "      <th></th>\n",
       "      <th>Station</th>\n",
       "      <th>gantry</th>\n",
       "      <th>Latitude</th>\n",
       "      <th>Longitude</th>\n",
       "      <th>Lane Count</th>\n",
       "      <th>Month</th>\n",
       "      <th>ClimateType</th>\n",
       "      <th>Estimated Monthly Consumption (kWh)</th>\n",
       "    </tr>\n",
       "  </thead>\n",
       "  <tbody>\n",
       "    <tr>\n",
       "      <th>0</th>\n",
       "      <td>后里</td>\n",
       "      <td>01F-104.5N</td>\n",
       "      <td>24.727131</td>\n",
       "      <td>120.951897</td>\n",
       "      <td>3.0</td>\n",
       "      <td>5</td>\n",
       "      <td>-1</td>\n",
       "      <td>1738.5</td>\n",
       "    </tr>\n",
       "    <tr>\n",
       "      <th>1</th>\n",
       "      <td>后里</td>\n",
       "      <td>01F-104.5N</td>\n",
       "      <td>24.727131</td>\n",
       "      <td>120.951897</td>\n",
       "      <td>3.0</td>\n",
       "      <td>6</td>\n",
       "      <td>-1</td>\n",
       "      <td>1738.5</td>\n",
       "    </tr>\n",
       "    <tr>\n",
       "      <th>2</th>\n",
       "      <td>后里</td>\n",
       "      <td>01F-104.5N</td>\n",
       "      <td>24.727131</td>\n",
       "      <td>120.951897</td>\n",
       "      <td>3.0</td>\n",
       "      <td>7</td>\n",
       "      <td>-1</td>\n",
       "      <td>1908.0</td>\n",
       "    </tr>\n",
       "    <tr>\n",
       "      <th>3</th>\n",
       "      <td>后里</td>\n",
       "      <td>01F-104.5N</td>\n",
       "      <td>24.727131</td>\n",
       "      <td>120.951897</td>\n",
       "      <td>3.0</td>\n",
       "      <td>8</td>\n",
       "      <td>-1</td>\n",
       "      <td>1908.0</td>\n",
       "    </tr>\n",
       "    <tr>\n",
       "      <th>4</th>\n",
       "      <td>后里</td>\n",
       "      <td>01F-104.5N</td>\n",
       "      <td>24.727131</td>\n",
       "      <td>120.951897</td>\n",
       "      <td>3.0</td>\n",
       "      <td>9</td>\n",
       "      <td>-1</td>\n",
       "      <td>1796.0</td>\n",
       "    </tr>\n",
       "  </tbody>\n",
       "</table>\n",
       "</div>"
      ],
      "text/plain": [
       "  Station      gantry   Latitude   Longitude  Lane Count  Month  ClimateType  \\\n",
       "0      后里  01F-104.5N  24.727131  120.951897         3.0      5           -1   \n",
       "1      后里  01F-104.5N  24.727131  120.951897         3.0      6           -1   \n",
       "2      后里  01F-104.5N  24.727131  120.951897         3.0      7           -1   \n",
       "3      后里  01F-104.5N  24.727131  120.951897         3.0      8           -1   \n",
       "4      后里  01F-104.5N  24.727131  120.951897         3.0      9           -1   \n",
       "\n",
       "   Estimated Monthly Consumption (kWh)  \n",
       "0                               1738.5  \n",
       "1                               1738.5  \n",
       "2                               1908.0  \n",
       "3                               1908.0  \n",
       "4                               1796.0  "
      ]
     },
     "execution_count": 3,
     "metadata": {},
     "output_type": "execute_result"
    }
   ],
   "source": [
    "# Move 'Estimated Monthly Consumption (kWh)' to the end\n",
    "col = 'Estimated Monthly Consumption (kWh)'\n",
    "df = df[[c for c in df.columns if c != col] + [col]]\n",
    "\n",
    "df.head()\n"
   ]
  },
  {
   "cell_type": "code",
   "execution_count": 13,
   "id": "d7b4e77d",
   "metadata": {},
   "outputs": [
    {
     "data": {
      "text/html": [
       "<div>\n",
       "<style scoped>\n",
       "    .dataframe tbody tr th:only-of-type {\n",
       "        vertical-align: middle;\n",
       "    }\n",
       "\n",
       "    .dataframe tbody tr th {\n",
       "        vertical-align: top;\n",
       "    }\n",
       "\n",
       "    .dataframe thead th {\n",
       "        text-align: right;\n",
       "    }\n",
       "</style>\n",
       "<table border=\"1\" class=\"dataframe\">\n",
       "  <thead>\n",
       "    <tr style=\"text-align: right;\">\n",
       "      <th></th>\n",
       "      <th>Unnamed: 0</th>\n",
       "      <th>Station</th>\n",
       "      <th>gantry</th>\n",
       "      <th>Latitude</th>\n",
       "      <th>Longitude</th>\n",
       "      <th>Lane Count</th>\n",
       "      <th>Month</th>\n",
       "      <th>ClimateType</th>\n",
       "      <th>Estimated Monthly Consumption (kWh)</th>\n",
       "    </tr>\n",
       "  </thead>\n",
       "  <tbody>\n",
       "    <tr>\n",
       "      <th>0</th>\n",
       "      <td>0</td>\n",
       "      <td>后里</td>\n",
       "      <td>01F-104.5N</td>\n",
       "      <td>24.727131</td>\n",
       "      <td>120.951897</td>\n",
       "      <td>3.0</td>\n",
       "      <td>5</td>\n",
       "      <td>-1</td>\n",
       "      <td>1738.5</td>\n",
       "    </tr>\n",
       "    <tr>\n",
       "      <th>1</th>\n",
       "      <td>1</td>\n",
       "      <td>后里</td>\n",
       "      <td>01F-104.5N</td>\n",
       "      <td>24.727131</td>\n",
       "      <td>120.951897</td>\n",
       "      <td>3.0</td>\n",
       "      <td>6</td>\n",
       "      <td>-1</td>\n",
       "      <td>1738.5</td>\n",
       "    </tr>\n",
       "    <tr>\n",
       "      <th>2</th>\n",
       "      <td>2</td>\n",
       "      <td>后里</td>\n",
       "      <td>01F-104.5N</td>\n",
       "      <td>24.727131</td>\n",
       "      <td>120.951897</td>\n",
       "      <td>3.0</td>\n",
       "      <td>7</td>\n",
       "      <td>-1</td>\n",
       "      <td>1908.0</td>\n",
       "    </tr>\n",
       "    <tr>\n",
       "      <th>3</th>\n",
       "      <td>3</td>\n",
       "      <td>后里</td>\n",
       "      <td>01F-104.5N</td>\n",
       "      <td>24.727131</td>\n",
       "      <td>120.951897</td>\n",
       "      <td>3.0</td>\n",
       "      <td>8</td>\n",
       "      <td>-1</td>\n",
       "      <td>1908.0</td>\n",
       "    </tr>\n",
       "    <tr>\n",
       "      <th>4</th>\n",
       "      <td>4</td>\n",
       "      <td>后里</td>\n",
       "      <td>01F-104.5N</td>\n",
       "      <td>24.727131</td>\n",
       "      <td>120.951897</td>\n",
       "      <td>3.0</td>\n",
       "      <td>9</td>\n",
       "      <td>-1</td>\n",
       "      <td>1796.0</td>\n",
       "    </tr>\n",
       "  </tbody>\n",
       "</table>\n",
       "</div>"
      ],
      "text/plain": [
       "   Unnamed: 0 Station      gantry   Latitude   Longitude  Lane Count  Month  \\\n",
       "0           0      后里  01F-104.5N  24.727131  120.951897         3.0      5   \n",
       "1           1      后里  01F-104.5N  24.727131  120.951897         3.0      6   \n",
       "2           2      后里  01F-104.5N  24.727131  120.951897         3.0      7   \n",
       "3           3      后里  01F-104.5N  24.727131  120.951897         3.0      8   \n",
       "4           4      后里  01F-104.5N  24.727131  120.951897         3.0      9   \n",
       "\n",
       "   ClimateType  Estimated Monthly Consumption (kWh)  \n",
       "0           -1                               1738.5  \n",
       "1           -1                               1738.5  \n",
       "2           -1                               1908.0  \n",
       "3           -1                               1908.0  \n",
       "4           -1                               1796.0  "
      ]
     },
     "execution_count": 13,
     "metadata": {},
     "output_type": "execute_result"
    }
   ],
   "source": [
    "df = pd.read_csv(\"../Clean Data/reorder_consumption_with_climate_label.csv\")\n",
    "df.head()"
   ]
  },
  {
   "cell_type": "code",
   "execution_count": 14,
   "id": "e3e0b11e",
   "metadata": {},
   "outputs": [
    {
     "data": {
      "text/html": [
       "<div>\n",
       "<style scoped>\n",
       "    .dataframe tbody tr th:only-of-type {\n",
       "        vertical-align: middle;\n",
       "    }\n",
       "\n",
       "    .dataframe tbody tr th {\n",
       "        vertical-align: top;\n",
       "    }\n",
       "\n",
       "    .dataframe thead th {\n",
       "        text-align: right;\n",
       "    }\n",
       "</style>\n",
       "<table border=\"1\" class=\"dataframe\">\n",
       "  <thead>\n",
       "    <tr style=\"text-align: right;\">\n",
       "      <th></th>\n",
       "      <th>Station</th>\n",
       "      <th>gantry</th>\n",
       "      <th>Latitude</th>\n",
       "      <th>Longitude</th>\n",
       "      <th>Lane Count</th>\n",
       "      <th>Month</th>\n",
       "      <th>ClimateType</th>\n",
       "      <th>Estimated Monthly Consumption (kWh)</th>\n",
       "    </tr>\n",
       "  </thead>\n",
       "  <tbody>\n",
       "    <tr>\n",
       "      <th>0</th>\n",
       "      <td>后里</td>\n",
       "      <td>01F-104.5N</td>\n",
       "      <td>24.727131</td>\n",
       "      <td>120.951897</td>\n",
       "      <td>3.0</td>\n",
       "      <td>5</td>\n",
       "      <td>-1</td>\n",
       "      <td>1738.5</td>\n",
       "    </tr>\n",
       "    <tr>\n",
       "      <th>1</th>\n",
       "      <td>后里</td>\n",
       "      <td>01F-104.5N</td>\n",
       "      <td>24.727131</td>\n",
       "      <td>120.951897</td>\n",
       "      <td>3.0</td>\n",
       "      <td>6</td>\n",
       "      <td>-1</td>\n",
       "      <td>1738.5</td>\n",
       "    </tr>\n",
       "    <tr>\n",
       "      <th>2</th>\n",
       "      <td>后里</td>\n",
       "      <td>01F-104.5N</td>\n",
       "      <td>24.727131</td>\n",
       "      <td>120.951897</td>\n",
       "      <td>3.0</td>\n",
       "      <td>7</td>\n",
       "      <td>-1</td>\n",
       "      <td>1908.0</td>\n",
       "    </tr>\n",
       "    <tr>\n",
       "      <th>3</th>\n",
       "      <td>后里</td>\n",
       "      <td>01F-104.5N</td>\n",
       "      <td>24.727131</td>\n",
       "      <td>120.951897</td>\n",
       "      <td>3.0</td>\n",
       "      <td>8</td>\n",
       "      <td>-1</td>\n",
       "      <td>1908.0</td>\n",
       "    </tr>\n",
       "    <tr>\n",
       "      <th>4</th>\n",
       "      <td>后里</td>\n",
       "      <td>01F-104.5N</td>\n",
       "      <td>24.727131</td>\n",
       "      <td>120.951897</td>\n",
       "      <td>3.0</td>\n",
       "      <td>9</td>\n",
       "      <td>-1</td>\n",
       "      <td>1796.0</td>\n",
       "    </tr>\n",
       "  </tbody>\n",
       "</table>\n",
       "</div>"
      ],
      "text/plain": [
       "  Station      gantry   Latitude   Longitude  Lane Count  Month  ClimateType  \\\n",
       "0      后里  01F-104.5N  24.727131  120.951897         3.0      5           -1   \n",
       "1      后里  01F-104.5N  24.727131  120.951897         3.0      6           -1   \n",
       "2      后里  01F-104.5N  24.727131  120.951897         3.0      7           -1   \n",
       "3      后里  01F-104.5N  24.727131  120.951897         3.0      8           -1   \n",
       "4      后里  01F-104.5N  24.727131  120.951897         3.0      9           -1   \n",
       "\n",
       "   Estimated Monthly Consumption (kWh)  \n",
       "0                               1738.5  \n",
       "1                               1738.5  \n",
       "2                               1908.0  \n",
       "3                               1908.0  \n",
       "4                               1796.0  "
      ]
     },
     "execution_count": 14,
     "metadata": {},
     "output_type": "execute_result"
    }
   ],
   "source": [
    "df = df.drop(columns=[\"Unnamed: 0\"])\n",
    "\n",
    "df.head()"
   ]
  },
  {
   "cell_type": "code",
   "execution_count": 15,
   "id": "5df331af",
   "metadata": {},
   "outputs": [],
   "source": [
    "df.to_csv(\"../Clean Data/reorder_consumption_with_climate_label.csv\", index=False)"
   ]
  },
  {
   "cell_type": "markdown",
   "id": "17d79388",
   "metadata": {},
   "source": [
    "# Model"
   ]
  },
  {
   "cell_type": "code",
   "execution_count": 16,
   "id": "0ac60e67",
   "metadata": {},
   "outputs": [
    {
     "name": "stdout",
     "output_type": "stream",
     "text": [
      "  Station      gantry   Latitude   Longitude  Lane Count  Month  ClimateType  \\\n",
      "0      后里  01F-104.5N  24.727131  120.951897         3.0      5           -1   \n",
      "1      后里  01F-104.5N  24.727131  120.951897         3.0      6           -1   \n",
      "2      后里  01F-104.5N  24.727131  120.951897         3.0      7           -1   \n",
      "3      后里  01F-104.5N  24.727131  120.951897         3.0      8           -1   \n",
      "4      后里  01F-104.5N  24.727131  120.951897         3.0      9           -1   \n",
      "\n",
      "   Estimated Monthly Consumption (kWh)  \n",
      "0                               1738.5  \n",
      "1                               1738.5  \n",
      "2                               1908.0  \n",
      "3                               1908.0  \n",
      "4                               1796.0  \n"
     ]
    }
   ],
   "source": [
    "df = pd.read_csv(\"../Clean Data/reorder_consumption_with_climate_label.csv\")\n",
    "print(df.head(5))"
   ]
  },
  {
   "cell_type": "code",
   "execution_count": null,
   "id": "e38fa2d8",
   "metadata": {},
   "outputs": [],
   "source": [
    "regression_dataset_df = df.drop(columns=[\"Station\", \"gantry\"])\n",
    "\n",
    "regression_dataset_df.to_csv(\"../Clean Data/regression_dataset.csv\")\n"
   ]
  },
  {
   "cell_type": "markdown",
   "id": "b4375f44",
   "metadata": {},
   "source": [
    "# Define Dataset, define feature and target split"
   ]
  },
  {
   "cell_type": "code",
   "execution_count": 21,
   "id": "ff25b2aa",
   "metadata": {},
   "outputs": [
    {
     "data": {
      "text/html": [
       "<div>\n",
       "<style scoped>\n",
       "    .dataframe tbody tr th:only-of-type {\n",
       "        vertical-align: middle;\n",
       "    }\n",
       "\n",
       "    .dataframe tbody tr th {\n",
       "        vertical-align: top;\n",
       "    }\n",
       "\n",
       "    .dataframe thead th {\n",
       "        text-align: right;\n",
       "    }\n",
       "</style>\n",
       "<table border=\"1\" class=\"dataframe\">\n",
       "  <thead>\n",
       "    <tr style=\"text-align: right;\">\n",
       "      <th></th>\n",
       "      <th>Latitude</th>\n",
       "      <th>Longitude</th>\n",
       "      <th>Lane Count</th>\n",
       "      <th>Month</th>\n",
       "      <th>ClimateType</th>\n",
       "      <th>Estimated Monthly Consumption (kWh)</th>\n",
       "    </tr>\n",
       "  </thead>\n",
       "  <tbody>\n",
       "    <tr>\n",
       "      <th>0</th>\n",
       "      <td>24.727131</td>\n",
       "      <td>120.951897</td>\n",
       "      <td>3.0</td>\n",
       "      <td>5</td>\n",
       "      <td>-1</td>\n",
       "      <td>1738.5</td>\n",
       "    </tr>\n",
       "    <tr>\n",
       "      <th>1</th>\n",
       "      <td>24.727131</td>\n",
       "      <td>120.951897</td>\n",
       "      <td>3.0</td>\n",
       "      <td>6</td>\n",
       "      <td>-1</td>\n",
       "      <td>1738.5</td>\n",
       "    </tr>\n",
       "    <tr>\n",
       "      <th>2</th>\n",
       "      <td>24.727131</td>\n",
       "      <td>120.951897</td>\n",
       "      <td>3.0</td>\n",
       "      <td>7</td>\n",
       "      <td>-1</td>\n",
       "      <td>1908.0</td>\n",
       "    </tr>\n",
       "    <tr>\n",
       "      <th>3</th>\n",
       "      <td>24.727131</td>\n",
       "      <td>120.951897</td>\n",
       "      <td>3.0</td>\n",
       "      <td>8</td>\n",
       "      <td>-1</td>\n",
       "      <td>1908.0</td>\n",
       "    </tr>\n",
       "    <tr>\n",
       "      <th>4</th>\n",
       "      <td>24.727131</td>\n",
       "      <td>120.951897</td>\n",
       "      <td>3.0</td>\n",
       "      <td>9</td>\n",
       "      <td>-1</td>\n",
       "      <td>1796.0</td>\n",
       "    </tr>\n",
       "  </tbody>\n",
       "</table>\n",
       "</div>"
      ],
      "text/plain": [
       "    Latitude   Longitude  Lane Count  Month  ClimateType  \\\n",
       "0  24.727131  120.951897         3.0      5           -1   \n",
       "1  24.727131  120.951897         3.0      6           -1   \n",
       "2  24.727131  120.951897         3.0      7           -1   \n",
       "3  24.727131  120.951897         3.0      8           -1   \n",
       "4  24.727131  120.951897         3.0      9           -1   \n",
       "\n",
       "   Estimated Monthly Consumption (kWh)  \n",
       "0                               1738.5  \n",
       "1                               1738.5  \n",
       "2                               1908.0  \n",
       "3                               1908.0  \n",
       "4                               1796.0  "
      ]
     },
     "execution_count": 21,
     "metadata": {},
     "output_type": "execute_result"
    }
   ],
   "source": [
    "regression_dataset_df.head()"
   ]
  },
  {
   "cell_type": "code",
   "execution_count": 23,
   "id": "7818a86c",
   "metadata": {},
   "outputs": [],
   "source": [
    "X = regression_dataset_df[[\"Latitude\", \"Longitude\", \"Lane Count\", \"Month\", \"ClimateType\"]]\n",
    "y = regression_dataset_df[\"Estimated Monthly Consumption (kWh)\"]"
   ]
  },
  {
   "cell_type": "markdown",
   "id": "58d01e9b",
   "metadata": {},
   "source": [
    "# Import Libraries"
   ]
  },
  {
   "cell_type": "code",
   "execution_count": 24,
   "id": "1d5a2e20",
   "metadata": {},
   "outputs": [],
   "source": [
    "from sklearn.ensemble import RandomForestRegressor\n",
    "from sklearn.metrics import mean_absolute_error, r2_score\n",
    "from sklearn.model_selection import train_test_split"
   ]
  },
  {
   "cell_type": "markdown",
   "id": "0acc8457",
   "metadata": {},
   "source": [
    "# Full Regression Model pipeline"
   ]
  },
  {
   "cell_type": "code",
   "execution_count": 55,
   "id": "b517c122",
   "metadata": {},
   "outputs": [
    {
     "name": "stdout",
     "output_type": "stream",
     "text": [
      "MAE: 51.81 kWh\n",
      "R² Score: 0.94\n"
     ]
    }
   ],
   "source": [
    "# Load your data\n",
    "df = pd.read_csv(\"../Clean Data/regression_dataset.csv\")\n",
    "\n",
    "# Select features and target\n",
    "X = df[[\"Latitude\", \"Longitude\", \"Lane Count\", \"Month\"]]\n",
    "y = df[\"Estimated Monthly Consumption (kWh)\"]\n",
    "\n",
    "# Split data (simple random split; replace with group-wise split if needed)\n",
    "X_train, X_test, y_train, y_test = train_test_split(X, y, test_size=0.25, random_state=69)\n",
    "\n",
    "# Train model\n",
    "model = RandomForestRegressor(n_estimators=100, random_state=42)\n",
    "model.fit(X_train, y_train)\n",
    "\n",
    "# Evaluate\n",
    "y_pred = model.predict(X_test)\n",
    "mae = mean_absolute_error(y_test, y_pred)\n",
    "r2 = r2_score(y_test, y_pred)\n",
    "\n",
    "print(f\"MAE: {mae:.2f} kWh\")\n",
    "print(f\"R² Score: {r2:.2f}\")"
   ]
  },
  {
   "cell_type": "code",
   "execution_count": 56,
   "id": "fab44eac",
   "metadata": {},
   "outputs": [
    {
     "data": {
      "image/png": "[encoded data removed]",
      "text/plain": [
       "<Figure size 640x480 with 1 Axes>"
      ]
     },
     "metadata": {},
     "output_type": "display_data"
    }
   ],
   "source": [
    "import matplotlib.pyplot as plt\n",
    "\n",
    "plt.scatter(y_test, y_pred, alpha=0.6)\n",
    "plt.xlabel(\"Actual Consumption (kWh)\")\n",
    "plt.ylabel(\"Predicted Consumption (kWh)\")\n",
    "plt.title(\"Actual vs Predicted Consumption\")\n",
    "plt.plot([y_test.min(), y_test.max()], [y_test.min(), y_test.max()], 'r--')\n",
    "plt.grid(True)\n",
    "plt.show()\n"
   ]
  },
  {
   "cell_type": "code",
   "execution_count": 57,
   "id": "87657cb3",
   "metadata": {},
   "outputs": [
    {
     "name": "stdout",
     "output_type": "stream",
     "text": [
      "Latitude: 0.398\n",
      "Longitude: 0.315\n",
      "Lane Count: 0.221\n",
      "Month: 0.066\n"
     ]
    }
   ],
   "source": [
    "importances = model.feature_importances_\n",
    "feature_names = X.columns\n",
    "for name, importance in zip(feature_names, importances):\n",
    "    print(f\"{name}: {importance:.3f}\")\n"
   ]
  },
  {
   "cell_type": "code",
   "execution_count": 36,
   "id": "23321204",
   "metadata": {},
   "outputs": [
    {
     "data": {
      "text/plain": [
       "['random_forest_consumption_model.pkl']"
      ]
     },
     "execution_count": 36,
     "metadata": {},
     "output_type": "execute_result"
    }
   ],
   "source": [
    "import joblib\n",
    "joblib.dump(model, \"random_forest_consumption_model.pkl\")\n"
   ]
  },
  {
   "cell_type": "markdown",
   "id": "34b2046c",
   "metadata": {},
   "source": [
    "# Load and Test Model"
   ]
  },
  {
   "cell_type": "code",
   "execution_count": 54,
   "id": "2de5417e",
   "metadata": {},
   "outputs": [
    {
     "name": "stdout",
     "output_type": "stream",
     "text": [
      "Predicted Monthly Consumption: 1660.89 kWh\n"
     ]
    },
    {
     "name": "stderr",
     "output_type": "stream",
     "text": [
      "d:\\Anaconda\\Anaconda\\envs\\MachineLearning\\Lib\\site-packages\\sklearn\\utils\\validation.py:2739: UserWarning: X does not have valid feature names, but RandomForestRegressor was fitted with feature names\n",
      "  warnings.warn(\n"
     ]
    }
   ],
   "source": [
    "import joblib\n",
    "import numpy as np\n",
    "\n",
    "# 24.727131,120.951897,3.0,5,-1,1738.5\n",
    "\n",
    "# Load the saved model\n",
    "model = joblib.load(\"random_forest_consumption_model.pkl\")\n",
    "\n",
    "# Input: [Latitude, Longitude, Lane Count, Month, ClimateType]\n",
    "sample_input = np.array([[24.727131, 120.951897, 3.0, 5, 1]])\n",
    "\n",
    "# Predict\n",
    "predicted_consumption = model.predict(sample_input)\n",
    "print(f\"Predicted Monthly Consumption: {predicted_consumption[0]:.2f} kWh\")\n"
   ]
  },
  {
   "cell_type": "code",
   "execution_count": null,
   "id": "3fcfdb8f",
   "metadata": {},
   "outputs": [],
   "source": []
  }
 ],
 "metadata": {
  "kernelspec": {
   "display_name": "MachineLearning",
   "language": "python",
   "name": "python3"
  },
  "language_info": {
   "codemirror_mode": {
    "name": "ipython",
    "version": 3
   },
   "file_extension": ".py",
   "mimetype": "text/x-python",
   "name": "python",
   "nbconvert_exporter": "python",
   "pygments_lexer": "ipython3",
   "version": "3.12.9"
  }
 },
 "nbformat": 4,
 "nbformat_minor": 5
}
