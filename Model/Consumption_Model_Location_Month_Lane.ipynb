{
 "cells": [
  {
   "cell_type": "markdown",
   "id": "7cdba5ed",
   "metadata": {},
   "source": [
    "# Import Libraries"
   ]
  },
  {
   "cell_type": "code",
   "execution_count": 1,
   "id": "9c725b0f",
   "metadata": {},
   "outputs": [],
   "source": [
    "import pandas as pd\n",
    "import numpy as np\n",
    "\n",
    "from sklearn.ensemble import RandomForestRegressor\n",
    "from sklearn.metrics import mean_absolute_error, r2_score\n",
    "from sklearn.model_selection import train_test_split"
   ]
  },
  {
   "cell_type": "markdown",
   "id": "9b8e337c",
   "metadata": {},
   "source": [
    "# Regression using only Climate Score and Lane "
   ]
  },
  {
   "cell_type": "code",
   "execution_count": 2,
   "id": "3ad57531",
   "metadata": {},
   "outputs": [
    {
     "data": {
      "text/html": [
       "<div>\n",
       "<style scoped>\n",
       "    .dataframe tbody tr th:only-of-type {\n",
       "        vertical-align: middle;\n",
       "    }\n",
       "\n",
       "    .dataframe tbody tr th {\n",
       "        vertical-align: top;\n",
       "    }\n",
       "\n",
       "    .dataframe thead th {\n",
       "        text-align: right;\n",
       "    }\n",
       "</style>\n",
       "<table border=\"1\" class=\"dataframe\">\n",
       "  <thead>\n",
       "    <tr style=\"text-align: right;\">\n",
       "      <th></th>\n",
       "      <th>Unnamed: 0</th>\n",
       "      <th>Latitude</th>\n",
       "      <th>Longitude</th>\n",
       "      <th>Lane Count</th>\n",
       "      <th>Month</th>\n",
       "      <th>ClimateType</th>\n",
       "      <th>Estimated Monthly Consumption (kWh)</th>\n",
       "    </tr>\n",
       "  </thead>\n",
       "  <tbody>\n",
       "    <tr>\n",
       "      <th>0</th>\n",
       "      <td>0</td>\n",
       "      <td>24.727131</td>\n",
       "      <td>120.951897</td>\n",
       "      <td>3.0</td>\n",
       "      <td>5</td>\n",
       "      <td>-0.737638</td>\n",
       "      <td>1738.5</td>\n",
       "    </tr>\n",
       "    <tr>\n",
       "      <th>1</th>\n",
       "      <td>1</td>\n",
       "      <td>24.727131</td>\n",
       "      <td>120.951897</td>\n",
       "      <td>3.0</td>\n",
       "      <td>6</td>\n",
       "      <td>-0.429355</td>\n",
       "      <td>1738.5</td>\n",
       "    </tr>\n",
       "    <tr>\n",
       "      <th>2</th>\n",
       "      <td>2</td>\n",
       "      <td>24.727131</td>\n",
       "      <td>120.951897</td>\n",
       "      <td>3.0</td>\n",
       "      <td>7</td>\n",
       "      <td>-0.313095</td>\n",
       "      <td>1908.0</td>\n",
       "    </tr>\n",
       "    <tr>\n",
       "      <th>3</th>\n",
       "      <td>3</td>\n",
       "      <td>24.727131</td>\n",
       "      <td>120.951897</td>\n",
       "      <td>3.0</td>\n",
       "      <td>8</td>\n",
       "      <td>0.086170</td>\n",
       "      <td>1908.0</td>\n",
       "    </tr>\n",
       "    <tr>\n",
       "      <th>4</th>\n",
       "      <td>4</td>\n",
       "      <td>24.727131</td>\n",
       "      <td>120.951897</td>\n",
       "      <td>3.0</td>\n",
       "      <td>9</td>\n",
       "      <td>-0.371253</td>\n",
       "      <td>1796.0</td>\n",
       "    </tr>\n",
       "  </tbody>\n",
       "</table>\n",
       "</div>"
      ],
      "text/plain": [
       "   Unnamed: 0   Latitude   Longitude  Lane Count  Month  ClimateType  \\\n",
       "0           0  24.727131  120.951897         3.0      5    -0.737638   \n",
       "1           1  24.727131  120.951897         3.0      6    -0.429355   \n",
       "2           2  24.727131  120.951897         3.0      7    -0.313095   \n",
       "3           3  24.727131  120.951897         3.0      8     0.086170   \n",
       "4           4  24.727131  120.951897         3.0      9    -0.371253   \n",
       "\n",
       "   Estimated Monthly Consumption (kWh)  \n",
       "0                               1738.5  \n",
       "1                               1738.5  \n",
       "2                               1908.0  \n",
       "3                               1908.0  \n",
       "4                               1796.0  "
      ]
     },
     "execution_count": 2,
     "metadata": {},
     "output_type": "execute_result"
    }
   ],
   "source": [
    "df = pd.read_csv(\"../Clean Data/regression_dataset.csv\")\n",
    "df.head()"
   ]
  },
  {
   "cell_type": "code",
   "execution_count": 3,
   "id": "4b0b6501",
   "metadata": {},
   "outputs": [
    {
     "name": "stdout",
     "output_type": "stream",
     "text": [
      "MAE: 59.26 kWh\n",
      "R² Score: 0.93\n"
     ]
    }
   ],
   "source": [
    "# Load your data\n",
    "df = pd.read_csv(\"../Clean Data/regression_dataset.csv\")\n",
    "\n",
    "# Select features and target\n",
    "X = df[[\"Latitude\", \"Longitude\", \"Lane Count\", \"Month\"]]\n",
    "y = df[\"Estimated Monthly Consumption (kWh)\"]\n",
    "\n",
    "# Split data (simple random split; replace with group-wise split if needed)\n",
    "X_train, X_test, y_train, y_test = train_test_split(X, y, test_size=0.25, random_state=42)\n",
    "\n",
    "# Train model\n",
    "model = RandomForestRegressor(n_estimators=150, random_state=42)\n",
    "model.fit(X_train, y_train)\n",
    "\n",
    "# Evaluate\n",
    "y_pred = model.predict(X_test)\n",
    "mae = mean_absolute_error(y_test, y_pred)\n",
    "r2 = r2_score(y_test, y_pred)\n",
    "\n",
    "print(f\"MAE: {mae:.2f} kWh\")\n",
    "print(f\"R² Score: {r2:.2f}\")"
   ]
  },
  {
   "cell_type": "markdown",
   "id": "28212150",
   "metadata": {},
   "source": [
    "# Accuracy Visualization"
   ]
  },
  {
   "cell_type": "code",
   "execution_count": 4,
   "id": "78da84b9",
   "metadata": {},
   "outputs": [
    {
     "data": {
      "image/png": "[encoded data removed]",
      "text/plain": [
       "<Figure size 640x480 with 1 Axes>"
      ]
     },
     "metadata": {},
     "output_type": "display_data"
    }
   ],
   "source": [
    "import matplotlib.pyplot as plt\n",
    "\n",
    "plt.scatter(y_test, y_pred, alpha=0.6)\n",
    "plt.xlabel(\"Actual Consumption (kWh)\")\n",
    "plt.ylabel(\"Predicted Consumption (kWh)\")\n",
    "plt.title(\"Actual vs Predicted Consumption\")\n",
    "plt.plot([y_test.min(), y_test.max()], [y_test.min(), y_test.max()], 'r--')\n",
    "plt.grid(True)\n",
    "plt.show()\n"
   ]
  },
  {
   "cell_type": "code",
   "execution_count": 5,
   "id": "77abde5e",
   "metadata": {},
   "outputs": [
    {
     "name": "stdout",
     "output_type": "stream",
     "text": [
      "Latitude: 0.371\n",
      "Longitude: 0.331\n",
      "Lane Count: 0.233\n",
      "Month: 0.065\n"
     ]
    }
   ],
   "source": [
    "importances = model.feature_importances_\n",
    "feature_names = X.columns\n",
    "for name, importance in zip(feature_names, importances):\n",
    "    print(f\"{name}: {importance:.3f}\")\n"
   ]
  },
  {
   "cell_type": "markdown",
   "id": "b69d66f4",
   "metadata": {},
   "source": [
    "# Export"
   ]
  },
  {
   "cell_type": "code",
   "execution_count": 6,
   "id": "0dad4179",
   "metadata": {},
   "outputs": [
    {
     "data": {
      "text/plain": [
       "['Exports/Consumption Model/random_forest_consumption_model_location_lane_month.pkl']"
      ]
     },
     "execution_count": 6,
     "metadata": {},
     "output_type": "execute_result"
    }
   ],
   "source": [
    "import joblib\n",
    "joblib.dump(model, \"Exports/Consumption Model/random_forest_consumption_model_location_lane_month.pkl\")"
   ]
  },
  {
   "cell_type": "markdown",
   "id": "eb718ba3",
   "metadata": {},
   "source": [
    "# Load & Test"
   ]
  },
  {
   "cell_type": "code",
   "execution_count": 27,
   "id": "598a8761",
   "metadata": {},
   "outputs": [
    {
     "name": "stdout",
     "output_type": "stream",
     "text": [
      "Predicted Monthly Consumption: 1715.66 kWh\n"
     ]
    },
    {
     "name": "stderr",
     "output_type": "stream",
     "text": [
      "d:\\Anaconda\\Anaconda\\envs\\MachineLearning\\Lib\\site-packages\\sklearn\\utils\\validation.py:2739: UserWarning: X does not have valid feature names, but RandomForestRegressor was fitted with feature names\n",
      "  warnings.warn(\n"
     ]
    }
   ],
   "source": [
    "import joblib\n",
    "import numpy as np\n",
    "\n",
    "# 24.727131,120.951897,3.0,5,-1,1738.5\n",
    "\n",
    "# Load the saved model\n",
    "model = joblib.load(\"Exports/Consumption Model/random_forest_consumption_model_location_lane_month.pkl\")\n",
    "\n",
    "# Input: [Latitude, Longitude, Lane Count, Month]\n",
    "sample_input = np.array([[24.727131, 120.951897, 3.0, 5]])\n",
    "\n",
    "# Predict\n",
    "predicted_consumption = model.predict(sample_input)\n",
    "print(f\"Predicted Monthly Consumption: {predicted_consumption[0]:.2f} kWh\")\n"
   ]
  },
  {
   "cell_type": "code",
   "execution_count": null,
   "id": "cbbf564f",
   "metadata": {},
   "outputs": [],
   "source": []
  }
 ],
 "metadata": {
  "kernelspec": {
   "display_name": "MachineLearning",
   "language": "python",
   "name": "python3"
  },
  "language_info": {
   "codemirror_mode": {
    "name": "ipython",
    "version": 3
   },
   "file_extension": ".py",
   "mimetype": "text/x-python",
   "name": "python",
   "nbconvert_exporter": "python",
   "pygments_lexer": "ipython3",
   "version": "3.12.9"
  }
 },
 "nbformat": 4,
 "nbformat_minor": 5
}
