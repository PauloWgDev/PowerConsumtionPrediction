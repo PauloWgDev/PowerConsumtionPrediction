{
 "cells": [
  {
   "cell_type": "code",
   "execution_count": 8,
   "id": "2cd7f476",
   "metadata": {},
   "outputs": [],
   "source": [
    "import pandas as pd\n",
    "import numpy as np\n",
    "from sklearn.neighbors import KNeighborsRegressor\n",
    "from sklearn.preprocessing import MinMaxScaler\n",
    "import joblib"
   ]
  },
  {
   "cell_type": "markdown",
   "id": "e05a72a7",
   "metadata": {},
   "source": [
    "## Train and Export Model"
   ]
  },
  {
   "cell_type": "code",
   "execution_count": 12,
   "id": "7dea8f64",
   "metadata": {},
   "outputs": [
    {
     "name": "stdout",
     "output_type": "stream",
     "text": [
      "Model saved to: ./Exports/Climate Model/knn_model.joblib\n"
     ]
    }
   ],
   "source": [
    "file_path = '../Clean Data/Meteorological Station Data Clean.csv'\n",
    "output_path = \"./Exports/Climate Model/knn_model.joblib\"\n",
    "\n",
    "# Load data\n",
    "station_data = pd.read_csv(file_path)\n",
    "month_columns = [str(m) for m in range(1, 13)]\n",
    "temperature_data = station_data[month_columns].astype(float).values\n",
    "\n",
    "# Normalize to [-1, 1]\n",
    "scaler = MinMaxScaler(feature_range=(-1, 1))\n",
    "normalized_scores = scaler.fit_transform(temperature_data)\n",
    "\n",
    "# Build (lat, lon, month) → score dataset\n",
    "X, y = [], []\n",
    "for i, row in station_data.iterrows():\n",
    "    lat, lon = float(row[\"Latitude\"]), float(row[\"Longitude\"])\n",
    "    for month in range(1, 13):\n",
    "        X.append([lat, lon, month])\n",
    "        y.append(normalized_scores[i, month - 1])\n",
    "\n",
    "X = np.array(X)\n",
    "y = np.array(y)\n",
    "\n",
    "# Train model\n",
    "model = KNeighborsRegressor(n_neighbors=5, weights='distance')\n",
    "model.fit(X, y)\n",
    "\n",
    "# Save model\n",
    "joblib.dump(model, output_path)\n",
    "print(f\"Model saved to: {output_path}\")\n"
   ]
  },
  {
   "cell_type": "markdown",
   "id": "6cbd65fe",
   "metadata": {},
   "source": [
    "## Example Testing"
   ]
  },
  {
   "cell_type": "code",
   "execution_count": 13,
   "id": "b4fa987d",
   "metadata": {},
   "outputs": [
    {
     "name": "stdout",
     "output_type": "stream",
     "text": [
      "Predicted normalized temperature score for (25.0, 121.5) in month 12: -0.543\n"
     ]
    }
   ],
   "source": [
    "import joblib\n",
    "import numpy as np\n",
    "\n",
    "model_path = \"./Exports/Climate Model/knn_model.joblib\"\n",
    "\n",
    "# Load model\n",
    "model = joblib.load(model_path)\n",
    "\n",
    "def predict_temperature_score(lat, lon, month):\n",
    "    query = np.array([[lat, lon, month]], dtype=float)\n",
    "    return float(model.predict(query)[0])\n",
    "\n",
    "lat, lon, month = 25.0, 121.5, 12\n",
    "score = predict_temperature_score(lat, lon, month)\n",
    "print(f\"Predicted normalized temperature score for ({lat}, {lon}) in month {month}: {score:.3f}\")"
   ]
  },
  {
   "cell_type": "markdown",
   "id": "77580f8f",
   "metadata": {},
   "source": [
    "## Compute the climate scores for the training dataset"
   ]
  },
  {
   "cell_type": "code",
   "execution_count": 15,
   "id": "370bde49",
   "metadata": {},
   "outputs": [],
   "source": [
    "import joblib\n",
    "import numpy as np\n",
    "\n",
    "model_path = \"./Exports/Climate Model/knn_model.joblib\"\n",
    "\n",
    "# Load model\n",
    "model = joblib.load(model_path)\n",
    "\n",
    "def predict_temperature_score(lat, lon, month):\n",
    "    query = np.array([[lat, lon, month]], dtype=float)\n",
    "    return float(model.predict(query)[0])\n",
    "\n",
    "consumption_original = pd.read_csv(\"../Clean Data/monthly consumption per station.csv\")\n",
    "\n",
    "df_score = consumption_original.copy()\n",
    "\n",
    "climate_types_score = []\n",
    "for i, row in df_score.iterrows():\n",
    "    lat = row[\"Latitude\"]\n",
    "    lon = row[\"Longitude\"]\n",
    "    month = int(row[\"Month\"])\n",
    "    result = predict_temperature_score(lat, lon, month)\n",
    "    climate_types_score.append(result)\n",
    "df_score[\"ClimateType\"] = climate_types_score\n",
    "\n",
    "# Export Results\n",
    "df_score.to_csv(\"../Clean Data/consumption_with_climate_score.csv\", index=False)"
   ]
  }
 ],
 "metadata": {
  "kernelspec": {
   "display_name": "MachineLearning",
   "language": "python",
   "name": "python3"
  },
  "language_info": {
   "codemirror_mode": {
    "name": "ipython",
    "version": 3
   },
   "file_extension": ".py",
   "mimetype": "text/x-python",
   "name": "python",
   "nbconvert_exporter": "python",
   "pygments_lexer": "ipython3",
   "version": "3.12.9"
  }
 },
 "nbformat": 4,
 "nbformat_minor": 5
}
