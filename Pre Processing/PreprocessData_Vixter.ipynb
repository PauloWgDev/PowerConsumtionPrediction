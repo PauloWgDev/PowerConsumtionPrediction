{
 "cells": [
  {
   "cell_type": "markdown",
   "id": "ab0822ab",
   "metadata": {},
   "source": [
    "## Data Preprocessing"
   ]
  },
  {
   "cell_type": "code",
   "execution_count": 3,
   "id": "bb30cfeb",
   "metadata": {},
   "outputs": [],
   "source": [
    "import numpy as np\n",
    "import pandas as pd\n",
    "import sys"
   ]
  },
  {
   "cell_type": "code",
   "execution_count": null,
   "id": "6b93226c",
   "metadata": {},
   "outputs": [],
   "source": [
    "import re\n",
    "\n",
    "def dms_to_decimal(dms_str):\n",
    "    \"\"\"Convert DMS string like '25°04′34.42″N' to decimal degrees.\"\"\"\n",
    "    pattern = r\"(\\d+)°(\\d+)'([\\d.]+)\\\"?([NSEW])\"\n",
    "    match = re.match(pattern, dms_str.strip().replace(\"′\", \"'\").replace(\"″\", '\"'))\n",
    "    \n",
    "    if not match:\n",
    "        raise ValueError(f\"Invalid DMS format: {dms_str}\")\n",
    "    \n",
    "    degrees, minutes, seconds, direction = match.groups()\n",
    "    decimal = int(degrees) + int(minutes) / 60 + float(seconds) / 3600\n",
    "    \n",
    "    if direction in ['S', 'W']:\n",
    "        decimal *= -1\n",
    "    \n",
    "    return decimal\n",
    "\n",
    "def split_lat_lon(latlon_str):\n",
    "    \"\"\"Split '25°04′34.42″N 121°25′08.59″E' into separate lat and lon decimal values.\"\"\"\n",
    "    parts = latlon_str.split()\n",
    "    lat = dms_to_decimal(parts[0])\n",
    "    lon = dms_to_decimal(parts[1])\n",
    "    return lat, lon\n"
   ]
  },
  {
   "cell_type": "code",
   "execution_count": 23,
   "id": "f7d6919e",
   "metadata": {},
   "outputs": [
    {
     "data": {
      "text/html": [
       "<div>\n",
       "<style scoped>\n",
       "    .dataframe tbody tr th:only-of-type {\n",
       "        vertical-align: middle;\n",
       "    }\n",
       "\n",
       "    .dataframe tbody tr th {\n",
       "        vertical-align: top;\n",
       "    }\n",
       "\n",
       "    .dataframe thead th {\n",
       "        text-align: right;\n",
       "    }\n",
       "</style>\n",
       "<table border=\"1\" class=\"dataframe\">\n",
       "  <thead>\n",
       "    <tr style=\"text-align: right;\">\n",
       "      <th></th>\n",
       "      <th>Meteorological Station</th>\n",
       "      <th>LatitudeLongitude</th>\n",
       "      <th>File Name</th>\n",
       "    </tr>\n",
       "  </thead>\n",
       "  <tbody>\n",
       "    <tr>\n",
       "      <th>0</th>\n",
       "      <td>五股  Wugu C0AI00</td>\n",
       "      <td>25°04'34.42\"N  121°25'08.59\"E</td>\n",
       "      <td>逐日平均氣溫年報表_2024 五股 _ csv_1</td>\n",
       "    </tr>\n",
       "    <tr>\n",
       "      <th>1</th>\n",
       "      <td>斗南  Dounan C0K460</td>\n",
       "      <td>23°40'49.72\"N  120°28'12.83\"E</td>\n",
       "      <td>逐日平均氣溫年報表_2024 斗南 _ csv_15</td>\n",
       "    </tr>\n",
       "    <tr>\n",
       "      <th>2</th>\n",
       "      <td>宜蘭  YILAN 467080</td>\n",
       "      <td>24°45'56.85\"N  121°44'54.03\"E</td>\n",
       "      <td>逐日平均氣溫年報表_2024 宜蘭 _ csv_12</td>\n",
       "    </tr>\n",
       "    <tr>\n",
       "      <th>3</th>\n",
       "      <td>板橋  Banchiao C0AJ80</td>\n",
       "      <td>25°00'44.75\"N  121°26'26.30\"E</td>\n",
       "      <td>逐日平均氣溫年報表_2024 板橋 _ csv</td>\n",
       "    </tr>\n",
       "    <tr>\n",
       "      <th>4</th>\n",
       "      <td>南投  Nantou C0I460</td>\n",
       "      <td>23°54'47.55\"N  120°40'45.06\"E</td>\n",
       "      <td>逐日平均氣溫年報表_2024 南投 _ csv_7</td>\n",
       "    </tr>\n",
       "  </tbody>\n",
       "</table>\n",
       "</div>"
      ],
      "text/plain": [
       "  Meteorological Station              LatitudeLongitude  \\\n",
       "0        五股  Wugu C0AI00  25°04'34.42\"N  121°25'08.59\"E   \n",
       "1      斗南  Dounan C0K460  23°40'49.72\"N  120°28'12.83\"E   \n",
       "2       宜蘭  YILAN 467080  24°45'56.85\"N  121°44'54.03\"E   \n",
       "3    板橋  Banchiao C0AJ80  25°00'44.75\"N  121°26'26.30\"E   \n",
       "4      南投  Nantou C0I460  23°54'47.55\"N  120°40'45.06\"E   \n",
       "\n",
       "                    File Name  \n",
       "0   逐日平均氣溫年報表_2024 五股 _ csv_1  \n",
       "1  逐日平均氣溫年報表_2024 斗南 _ csv_15  \n",
       "2  逐日平均氣溫年報表_2024 宜蘭 _ csv_12  \n",
       "3     逐日平均氣溫年報表_2024 板橋 _ csv  \n",
       "4   逐日平均氣溫年報表_2024 南投 _ csv_7  "
      ]
     },
     "execution_count": 23,
     "metadata": {},
     "output_type": "execute_result"
    }
   ],
   "source": [
    "station_list = pd.read_csv(\"../Raw Data/Meteorological Station List.csv\")\n",
    "\n",
    "station_list.head()"
   ]
  },
  {
   "cell_type": "code",
   "execution_count": 24,
   "id": "8eb88b72",
   "metadata": {},
   "outputs": [
    {
     "name": "stdout",
     "output_type": "stream",
     "text": [
      "Failed to parse row: 五股  Wugu C0AI00, error: Invalid DMS format: \n",
      "Failed to parse row: 斗南  Dounan C0K460, error: Invalid DMS format: \n",
      "Failed to parse row: 宜蘭  YILAN 467080, error: Invalid DMS format: \n",
      "Failed to parse row: 板橋  Banchiao C0AJ80, error: Invalid DMS format: \n",
      "Failed to parse row: 南投  Nantou C0I460, error: Invalid DMS format: \n",
      "Failed to parse row: 恆春  HENGCHUN 467590, error: Invalid DMS format: \n",
      "Failed to parse row: 苗栗  Miaoli C0E750, error: Invalid DMS format: \n",
      "Failed to parse row: 高雄  Kaohsiung 467441, error: Invalid DMS format: \n",
      "Failed to parse row: 基隆  KEELUNG 466940, error: Invalid DMS format: \n",
      "Failed to parse row: 深坑  Shenkeng C0AH80, error: Invalid DMS format: \n",
      "Failed to parse row: 新竹市東區  Dongqu Hsinshu City C0D660, error: Invalid DMS format: \n",
      "Failed to parse row: 嘉義  CHIAYI 467480, error: Invalid DMS format: \n",
      "Failed to parse row: 臺中  TAICHUNG 467490, error: Invalid DMS format: \n",
      "Failed to parse row: 臺北  TAIPEI 466920, error: Invalid DMS format: \n",
      "Failed to parse row: 臺南  TAINAN 467410, error: Invalid DMS format: \n",
      "Failed to parse row: 蘇澳  Suao C0UB10, error: Invalid DMS format: \n",
      "Failed to parse row: 麟洛  Linluo C0R570, error: Invalid DMS format: \n"
     ]
    },
    {
     "data": {
      "text/html": [
       "<div>\n",
       "<style scoped>\n",
       "    .dataframe tbody tr th:only-of-type {\n",
       "        vertical-align: middle;\n",
       "    }\n",
       "\n",
       "    .dataframe tbody tr th {\n",
       "        vertical-align: top;\n",
       "    }\n",
       "\n",
       "    .dataframe thead th {\n",
       "        text-align: right;\n",
       "    }\n",
       "</style>\n",
       "<table border=\"1\" class=\"dataframe\">\n",
       "  <thead>\n",
       "    <tr style=\"text-align: right;\">\n",
       "      <th></th>\n",
       "      <th>Station</th>\n",
       "      <th>Latitude</th>\n",
       "      <th>Longitude</th>\n",
       "    </tr>\n",
       "  </thead>\n",
       "  <tbody>\n",
       "    <tr>\n",
       "      <th>0</th>\n",
       "      <td>員林  Yuanlin C0G650</td>\n",
       "      <td>23.948056</td>\n",
       "      <td>120.577778</td>\n",
       "    </tr>\n",
       "    <tr>\n",
       "      <th>1</th>\n",
       "      <td>桃園  Taoyuan C0C480</td>\n",
       "      <td>24.994167</td>\n",
       "      <td>121.315000</td>\n",
       "    </tr>\n",
       "  </tbody>\n",
       "</table>\n",
       "</div>"
      ],
      "text/plain": [
       "              Station   Latitude   Longitude\n",
       "0  員林  Yuanlin C0G650  23.948056  120.577778\n",
       "1  桃園  Taoyuan C0C480  24.994167  121.315000"
      ]
     },
     "execution_count": 24,
     "metadata": {},
     "output_type": "execute_result"
    }
   ],
   "source": [
    "# Apply conversion to the full DataFrame\n",
    "stations_data = []\n",
    "\n",
    "for _, row in station_list.iterrows():\n",
    "    station = row['Meteorological Station']\n",
    "    latlon = row['LatitudeLongitude']\n",
    "    try:\n",
    "        lat, lon = split_lat_lon(latlon)\n",
    "        stations_data.append({'Station': station, 'Latitude': lat, 'Longitude': lon})\n",
    "    except Exception as e:\n",
    "        print(f\"Failed to parse row: {row['Meteorological Station']}, error: {e}\")\n",
    "\n",
    "# Convert to DataFrame\n",
    "stations_df = pd.DataFrame(stations_data)\n",
    "\n",
    "stations_df.head()"
   ]
  }
 ],
 "metadata": {
  "kernelspec": {
   "display_name": "MachineLearning",
   "language": "python",
   "name": "python3"
  },
  "language_info": {
   "codemirror_mode": {
    "name": "ipython",
    "version": 3
   },
   "file_extension": ".py",
   "mimetype": "text/x-python",
   "name": "python",
   "nbconvert_exporter": "python",
   "pygments_lexer": "ipython3",
   "version": "3.12.9"
  }
 },
 "nbformat": 4,
 "nbformat_minor": 5
}
