{
 "cells": [
  {
   "cell_type": "markdown",
   "id": "ab0822ab",
   "metadata": {},
   "source": [
    "## Data Preprocessing"
   ]
  },
  {
   "cell_type": "code",
   "execution_count": 2,
   "id": "bb30cfeb",
   "metadata": {},
   "outputs": [
    {
     "name": "stdout",
     "output_type": "stream",
     "text": [
      "Helper code loaded\n",
      "Helper code loaded\n"
     ]
    },
    {
     "data": {
      "text/plain": [
       "<module 'helper' from 'c:\\\\Users\\\\victo\\\\OneDrive\\\\Documents\\\\UPTP - Documents\\\\Year 4\\\\Machine Learning\\\\Machine Learning - PowerConsumptionPrediction Project\\\\PowerConsumtionPrediction\\\\Pre Processing\\\\helper.py'>"
      ]
     },
     "execution_count": 2,
     "metadata": {},
     "output_type": "execute_result"
    }
   ],
   "source": [
    "import numpy as np\n",
    "import pandas as pd\n",
    "import sys\n",
    "\n",
    "\n",
    "sys.path.append('helper.py')\n",
    "import helper as hp\n",
    "\n",
    "import importlib \n",
    "importlib.reload(hp)"
   ]
  },
  {
   "cell_type": "code",
   "execution_count": 51,
   "id": "6b93226c",
   "metadata": {},
   "outputs": [],
   "source": [
    "import re\n",
    "\n",
    "def dms_to_decimal(dms_str):\n",
    "    \"\"\"Convert DMS string like '25°04′34.42″N' to decimal degrees.\"\"\"\n",
    "    pattern = r\"(\\d+)°(\\d+)'([\\d.]+)\\\"?([NSEW])\"\n",
    "    match = re.match(pattern, dms_str.strip().replace(\"′\", \"'\").replace(\"″\", '\"'))\n",
    "    \n",
    "    if not match:\n",
    "        raise ValueError(f\"Invalid DMS format: {dms_str}\")\n",
    "    \n",
    "    degrees, minutes, seconds, direction = match.groups()\n",
    "    decimal = int(degrees) + int(minutes) / 60 + float(seconds) / 3600\n",
    "    \n",
    "    if direction in ['S', 'W']:\n",
    "        decimal *= -1\n",
    "    \n",
    "    return decimal\n",
    "\n",
    "def split_lat_lon(latlon_str):\n",
    "    \"\"\"Split '25°04′34.42″N 121°25′08.59″E' into separate lat and lon decimal values.\"\"\"\n",
    "    parts = latlon_str.split()\n",
    "    lat = dms_to_decimal(parts[0])\n",
    "    lon = dms_to_decimal(parts[1])\n",
    "    return lat, lon\n"
   ]
  },
  {
   "cell_type": "markdown",
   "id": "ee750d06",
   "metadata": {},
   "source": [
    "## Generate clean temperature data\n",
    "This code generates a cleaner csv with monthly average temperatures for each station"
   ]
  },
  {
   "cell_type": "code",
   "execution_count": 86,
   "id": "8eb88b72",
   "metadata": {},
   "outputs": [],
   "source": [
    "import pandas as pd\n",
    "\n",
    "station_list = pd.read_csv(\"../Raw Data/Meteorological Station List.csv\")\n",
    "\n",
    "# Store parsed data\n",
    "stations_data = []\n",
    "\n",
    "for _, row in station_list.iterrows():\n",
    "    station = row['Meteorological Station']\n",
    "    latlon = row['LatitudeLongitude']\n",
    "    filename = row['File Name']\n",
    "    \n",
    "    try:\n",
    "        # Convert DMS to decimal\n",
    "        lat, lon = split_lat_lon(latlon)\n",
    "        \n",
    "        temp_data = pd.read_csv(f\"../Raw Data/Meteorological Data/{filename}.csv\", skiprows=5)\n",
    "        average_temps = temp_data.iloc[-1, 1:-1]\n",
    "\n",
    "        record = {\n",
    "            'Station': station,\n",
    "            'Latitude': lat,\n",
    "            'Longitude': lon\n",
    "        }\n",
    "\n",
    "        for m in range(0, 12):\n",
    "            record[str(m + 1)] = average_temps[str(m+1)]\n",
    "        \n",
    "        stations_data.append(record)\n",
    "\n",
    "    except Exception as e:\n",
    "        print(f\"Failed to parse row: {station}, error: {e}\")\n",
    "\n",
    "stations_df = pd.DataFrame(stations_data)\n",
    "\n",
    "# Export\n",
    "stations_df.to_csv(\"../Clean Data/Meteorological Station Data Clean.csv\", index=False)"
   ]
  },
  {
   "cell_type": "markdown",
   "id": "570acd58",
   "metadata": {},
   "source": [
    "## Generate Clean Monthly Consumption with Climate Type"
   ]
  },
  {
   "cell_type": "code",
   "execution_count": null,
   "id": "ebf7c21b",
   "metadata": {},
   "outputs": [
    {
     "data": {
      "text/html": [
       "<div>\n",
       "<style scoped>\n",
       "    .dataframe tbody tr th:only-of-type {\n",
       "        vertical-align: middle;\n",
       "    }\n",
       "\n",
       "    .dataframe tbody tr th {\n",
       "        vertical-align: top;\n",
       "    }\n",
       "\n",
       "    .dataframe thead th {\n",
       "        text-align: right;\n",
       "    }\n",
       "</style>\n",
       "<table border=\"1\" class=\"dataframe\">\n",
       "  <thead>\n",
       "    <tr style=\"text-align: right;\">\n",
       "      <th></th>\n",
       "      <th>Unnamed: 0</th>\n",
       "      <th>Station</th>\n",
       "      <th>gantry</th>\n",
       "      <th>Latitude</th>\n",
       "      <th>Longitude</th>\n",
       "      <th>Lane Count</th>\n",
       "      <th>Month</th>\n",
       "      <th>Estimated Monthly Consumption (kWh)</th>\n",
       "    </tr>\n",
       "  </thead>\n",
       "  <tbody>\n",
       "    <tr>\n",
       "      <th>0</th>\n",
       "      <td>0</td>\n",
       "      <td>后里</td>\n",
       "      <td>01F-104.5N</td>\n",
       "      <td>24.727131</td>\n",
       "      <td>120.951897</td>\n",
       "      <td>3.0</td>\n",
       "      <td>5</td>\n",
       "      <td>1738.5</td>\n",
       "    </tr>\n",
       "    <tr>\n",
       "      <th>1</th>\n",
       "      <td>1</td>\n",
       "      <td>后里</td>\n",
       "      <td>01F-104.5N</td>\n",
       "      <td>24.727131</td>\n",
       "      <td>120.951897</td>\n",
       "      <td>3.0</td>\n",
       "      <td>6</td>\n",
       "      <td>1738.5</td>\n",
       "    </tr>\n",
       "    <tr>\n",
       "      <th>2</th>\n",
       "      <td>2</td>\n",
       "      <td>后里</td>\n",
       "      <td>01F-104.5N</td>\n",
       "      <td>24.727131</td>\n",
       "      <td>120.951897</td>\n",
       "      <td>3.0</td>\n",
       "      <td>7</td>\n",
       "      <td>1908.0</td>\n",
       "    </tr>\n",
       "    <tr>\n",
       "      <th>3</th>\n",
       "      <td>3</td>\n",
       "      <td>后里</td>\n",
       "      <td>01F-104.5N</td>\n",
       "      <td>24.727131</td>\n",
       "      <td>120.951897</td>\n",
       "      <td>3.0</td>\n",
       "      <td>8</td>\n",
       "      <td>1908.0</td>\n",
       "    </tr>\n",
       "    <tr>\n",
       "      <th>4</th>\n",
       "      <td>4</td>\n",
       "      <td>后里</td>\n",
       "      <td>01F-104.5N</td>\n",
       "      <td>24.727131</td>\n",
       "      <td>120.951897</td>\n",
       "      <td>3.0</td>\n",
       "      <td>9</td>\n",
       "      <td>1796.0</td>\n",
       "    </tr>\n",
       "  </tbody>\n",
       "</table>\n",
       "</div>"
      ],
      "text/plain": [
       "   Unnamed: 0 Station      gantry   Latitude   Longitude  Lane Count  Month  \\\n",
       "0           0      后里  01F-104.5N  24.727131  120.951897         3.0      5   \n",
       "1           1      后里  01F-104.5N  24.727131  120.951897         3.0      6   \n",
       "2           2      后里  01F-104.5N  24.727131  120.951897         3.0      7   \n",
       "3           3      后里  01F-104.5N  24.727131  120.951897         3.0      8   \n",
       "4           4      后里  01F-104.5N  24.727131  120.951897         3.0      9   \n",
       "\n",
       "   Estimated Monthly Consumption (kWh)  \n",
       "0                               1738.5  \n",
       "1                               1738.5  \n",
       "2                               1908.0  \n",
       "3                               1908.0  \n",
       "4                               1796.0  "
      ]
     },
     "execution_count": 5,
     "metadata": {},
     "output_type": "execute_result"
    }
   ],
   "source": [
    "consumption_original = pd.read_csv(\"../Clean Data/monthly consumption per station.csv\")"
   ]
  }
 ],
 "metadata": {
  "kernelspec": {
   "display_name": "MachineLearning",
   "language": "python",
   "name": "python3"
  },
  "language_info": {
   "codemirror_mode": {
    "name": "ipython",
    "version": 3
   },
   "file_extension": ".py",
   "mimetype": "text/x-python",
   "name": "python",
   "nbconvert_exporter": "python",
   "pygments_lexer": "ipython3",
   "version": "3.12.9"
  }
 },
 "nbformat": 4,
 "nbformat_minor": 5
}
