{
 "cells": [
  {
   "cell_type": "markdown",
   "id": "ab0822ab",
   "metadata": {},
   "source": [
    "## Data Preprocessing"
   ]
  },
  {
   "cell_type": "code",
   "execution_count": 2,
   "id": "bb30cfeb",
   "metadata": {},
   "outputs": [
    {
     "name": "stdout",
     "output_type": "stream",
     "text": [
      "Helper code loaded\n",
      "Helper code loaded\n"
     ]
    },
    {
     "data": {
      "text/plain": [
       "<module 'helper' from 'c:\\\\Users\\\\victo\\\\OneDrive\\\\Documents\\\\UPTP - Documents\\\\Year 4\\\\Machine Learning\\\\Machine Learning - PowerConsumptionPrediction Project\\\\PowerConsumtionPrediction\\\\Pre Processing\\\\helper.py'>"
      ]
     },
     "execution_count": 2,
     "metadata": {},
     "output_type": "execute_result"
    }
   ],
   "source": [
    "import numpy as np\n",
    "import pandas as pd\n",
    "import sys\n",
    "\n",
    "\n",
    "sys.path.append('helper.py')\n",
    "import helper as hp\n",
    "\n",
    "import importlib \n",
    "importlib.reload(hp)"
   ]
  },
  {
   "cell_type": "code",
   "execution_count": 51,
   "id": "6b93226c",
   "metadata": {},
   "outputs": [],
   "source": [
    "import re\n",
    "\n",
    "def dms_to_decimal(dms_str):\n",
    "    \"\"\"Convert DMS string like '25°04′34.42″N' to decimal degrees.\"\"\"\n",
    "    pattern = r\"(\\d+)°(\\d+)'([\\d.]+)\\\"?([NSEW])\"\n",
    "    match = re.match(pattern, dms_str.strip().replace(\"′\", \"'\").replace(\"″\", '\"'))\n",
    "    \n",
    "    if not match:\n",
    "        raise ValueError(f\"Invalid DMS format: {dms_str}\")\n",
    "    \n",
    "    degrees, minutes, seconds, direction = match.groups()\n",
    "    decimal = int(degrees) + int(minutes) / 60 + float(seconds) / 3600\n",
    "    \n",
    "    if direction in ['S', 'W']:\n",
    "        decimal *= -1\n",
    "    \n",
    "    return decimal\n",
    "\n",
    "def split_lat_lon(latlon_str):\n",
    "    \"\"\"Split '25°04′34.42″N 121°25′08.59″E' into separate lat and lon decimal values.\"\"\"\n",
    "    parts = latlon_str.split()\n",
    "    lat = dms_to_decimal(parts[0])\n",
    "    lon = dms_to_decimal(parts[1])\n",
    "    return lat, lon\n"
   ]
  },
  {
   "cell_type": "markdown",
   "id": "ee750d06",
   "metadata": {},
   "source": [
    "## Generate clean temperature data\n",
    "This code generates a cleaner csv with monthly average temperatures for each station"
   ]
  },
  {
   "cell_type": "code",
   "execution_count": 86,
   "id": "8eb88b72",
   "metadata": {},
   "outputs": [],
   "source": [
    "import pandas as pd\n",
    "\n",
    "station_list = pd.read_csv(\"../Raw Data/Meteorological Station List.csv\")\n",
    "\n",
    "# Store parsed data\n",
    "stations_data = []\n",
    "\n",
    "for _, row in station_list.iterrows():\n",
    "    station = row['Meteorological Station']\n",
    "    latlon = row['LatitudeLongitude']\n",
    "    filename = row['File Name']\n",
    "    \n",
    "    try:\n",
    "        # Convert DMS to decimal\n",
    "        lat, lon = split_lat_lon(latlon)\n",
    "        \n",
    "        temp_data = pd.read_csv(f\"../Raw Data/Meteorological Data/{filename}.csv\", skiprows=5)\n",
    "        average_temps = temp_data.iloc[-1, 1:-1]\n",
    "\n",
    "        record = {\n",
    "            'Station': station,\n",
    "            'Latitude': lat,\n",
    "            'Longitude': lon\n",
    "        }\n",
    "\n",
    "        for m in range(0, 12):\n",
    "            record[str(m + 1)] = average_temps[str(m+1)]\n",
    "        \n",
    "        stations_data.append(record)\n",
    "\n",
    "    except Exception as e:\n",
    "        print(f\"Failed to parse row: {station}, error: {e}\")\n",
    "\n",
    "stations_df = pd.DataFrame(stations_data)\n",
    "\n",
    "# Export\n",
    "stations_df.to_csv(\"../Clean Data/Meteorological Station Data Clean.csv\", index=False)"
   ]
  },
  {
   "cell_type": "markdown",
   "id": "570acd58",
   "metadata": {},
   "source": [
    "## Generate Clean Monthly Consumption with Climate Type"
   ]
  },
  {
   "cell_type": "code",
   "execution_count": null,
   "id": "ebf7c21b",
   "metadata": {},
   "outputs": [
    {
     "name": "stdout",
     "output_type": "stream",
     "text": [
      "  Station      gantry   Latitude   Longitude  Lane Count  Month  \\\n",
      "0      后里  01F-104.5N  24.727131  120.951897         3.0      5   \n",
      "\n",
      "   Estimated Monthly Consumption (kWh)  \n",
      "0                               1738.5  \n"
     ]
    }
   ],
   "source": [
    "consumption_original = pd.read_csv(\"../Clean Data/monthly consumption per station.csv\")\n",
    "print(consumption_original.head(1))"
   ]
  }
 ],
 "metadata": {
  "kernelspec": {
   "display_name": "MachineLearning",
   "language": "python",
   "name": "python3"
  },
  "language_info": {
   "codemirror_mode": {
    "name": "ipython",
    "version": 3
   },
   "file_extension": ".py",
   "mimetype": "text/x-python",
   "name": "python",
   "nbconvert_exporter": "python",
   "pygments_lexer": "ipython3",
   "version": "3.12.9"
  }
 },
 "nbformat": 4,
 "nbformat_minor": 5
}
