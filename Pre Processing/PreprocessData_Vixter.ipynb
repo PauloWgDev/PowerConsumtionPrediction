{
 "cells": [
  {
   "cell_type": "markdown",
   "id": "ab0822ab",
   "metadata": {},
   "source": [
    "## Data Preprocessing"
   ]
  },
  {
   "cell_type": "code",
   "execution_count": null,
   "id": "bb30cfeb",
   "metadata": {},
   "outputs": [],
   "source": [
    "import numpy as np\n",
    "import pandas as pd"
   ]
  },
  {
   "cell_type": "code",
   "execution_count": null,
   "id": "3c797e43",
   "metadata": {},
   "outputs": [],
   "source": [
    "monitoring_data = "
   ]
  }
 ],
 "metadata": {
  "kernelspec": {
   "display_name": "MachineLearning",
   "language": "python",
   "name": "python3"
  },
  "language_info": {
   "name": "python",
   "version": "3.12.9"
  }
 },
 "nbformat": 4,
 "nbformat_minor": 5
}
