{
 "cells": [
  {
   "cell_type": "code",
   "execution_count": 2,
   "id": "724d7ae4",
   "metadata": {},
   "outputs": [],
   "source": [
    "import numpy as np\n",
    "import pandas as pd"
   ]
  },
  {
   "cell_type": "code",
   "execution_count": 13,
   "id": "0ba741ba",
   "metadata": {},
   "outputs": [],
   "source": [
    "# Function to convert Minguo date\n",
    "def convert_minguo_date(value):\n",
    "    if pd.isna(value):\n",
    "        return None\n",
    "    value_str = str(int(value))\n",
    "    if len(value_str) == 5:\n",
    "        month = int(value_str[3:])\n",
    "        return month\n",
    "    else:\n",
    "        return None\n",
    "# Function to convert from \"999.0元\" to 999.0\n",
    "def convert_money_to_float(value):\n",
    "    try:\n",
    "        return float(str(value).replace(\"元\", \"\").strip())\n",
    "    except (ValueError, TypeError):\n",
    "        return None\n"
   ]
  },
  {
   "cell_type": "code",
   "execution_count": 18,
   "id": "97908ce8",
   "metadata": {},
   "outputs": [],
   "source": [
    "data_path = \"../Raw Data/Electricity data of the toll station-phase 1.csv\"\n",
    "raw_data = pd.read_csv(data_path, skiprows=1)\n",
    "\n",
    "# Extract useful columns\n",
    "columns = [\"Latitude\", \"Longitude\", \"Lane Count\", \"Billing Month\", \"Electricity Consumption (kWh)\", \"Total Amount Payable (Before Tax)\"]\n",
    "data_extracted = raw_data[columns].copy();\n",
    "\n",
    "# Convert Billing Month to Gregorian month\n",
    "data_extracted[\"Billing Month\"] = data_extracted[\"Billing Month\"].apply(convert_minguo_date)\n",
    "\n",
    "# Convert Money to float\n",
    "data_extracted[\"Total Amount Payable (Before Tax)\"] = data_extracted[\"Total Amount Payable (Before Tax)\"].apply(convert_money_to_float)\n",
    "\n",
    "# Drop nan or '' columns\n",
    "data_extracted = data_extracted.dropna()\n",
    "\n",
    "# Divide the rows by month because billing is done every two months\n",
    "data_divided = data_extracted.loc[data_extracted.index.repeat(2)].copy() # Duplicate\n",
    "\n",
    "data_divided['Month'] = data_divided['Billing Month'] - data_divided.groupby(level=0).cumcount() - 2 # Assign previous months\n",
    "data_divided['Month'] = data_divided['Month'].mod(12).replace(0, 12) # Keep months correctly wrapped around the year\n",
    "\n",
    "# Divide the consumption and amount by two\n",
    "data_divided['Estimated Monthly Consumption (kWh)'] = data_divided['Electricity Consumption (kWh)'] / 2\n",
    "data_divided['Estimated Monthly Amount (Before Tax)'] = data_divided['Total Amount Payable (Before Tax)'] / 2\n",
    "\n",
    "# Generate final df\n",
    "final_columns = ['Latitude', 'Longitude', 'Lane Count', 'Month', 'Estimated Monthly Consumption (kWh)', 'Estimated Monthly Amount (Before Tax)']\n",
    "processed_data = data_divided[final_columns].sort_values(by=['Latitude', 'Longitude', 'Month']).reset_index(drop=True)\n",
    "\n",
    "# Export Data\n",
    "processed_data.to_csv(\"../Clean Data/Clean_Electricity_Data_With_Cost.csv\", index=False)"
   ]
  },
  {
   "cell_type": "markdown",
   "id": "ee788dd1",
   "metadata": {},
   "source": [
    "## Add Climate Type Predictions"
   ]
  },
  {
   "cell_type": "code",
   "execution_count": 3,
   "id": "f8eb7d08",
   "metadata": {},
   "outputs": [],
   "source": [
    "import numpy as np\n",
    "import pandas as pd\n",
    "import joblib\n",
    "\n",
    "# Load model\n",
    "climate_model_path = \"../Model/Exports/Climate Model/knn_model.joblib\"\n",
    "climate_model = joblib.load(climate_model_path)\n",
    "\n",
    "# Define function\n",
    "def predict_climate_score_row(row):\n",
    "    query = np.array([[row['Latitude'], row['Longitude'], row['Month']]], dtype=float)\n",
    "    return float(climate_model.predict(query)[0])\n",
    "\n",
    "# Predict Climate Type\n",
    "df = pd.read_csv(\"../Clean Data/Clean_Electricity_Data_With_Cost.csv\")\n",
    "df[\"Climate Type\"] = df.apply(predict_climate_score_row, axis=1)\n",
    "\n",
    "# Reorder the DataFrame\n",
    "column_order = [\n",
    "    \"Latitude\",\n",
    "    \"Longitude\",\n",
    "    \"Lane Count\",\n",
    "    \"Month\",\n",
    "    \"Climate Type\",\n",
    "    \"Estimated Monthly Consumption (kWh)\",\n",
    "    \"Estimated Monthly Amount (Before Tax)\"\n",
    "]\n",
    "df = df[column_order]\n",
    "\n",
    "# Export\n",
    "df.to_csv(\"../Clean Data/Clean_Regression_Dataset_With_Cost.csv\", index=False)"
   ]
  }
 ],
 "metadata": {
  "kernelspec": {
   "display_name": "MachineLearning",
   "language": "python",
   "name": "python3"
  },
  "language_info": {
   "codemirror_mode": {
    "name": "ipython",
    "version": 3
   },
   "file_extension": ".py",
   "mimetype": "text/x-python",
   "name": "python",
   "nbconvert_exporter": "python",
   "pygments_lexer": "ipython3",
   "version": "3.12.9"
  }
 },
 "nbformat": 4,
 "nbformat_minor": 5
}
