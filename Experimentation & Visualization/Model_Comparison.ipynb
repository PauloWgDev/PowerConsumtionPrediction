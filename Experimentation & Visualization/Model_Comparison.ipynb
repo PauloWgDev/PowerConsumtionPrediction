{
 "cells": [
  {
   "cell_type": "code",
   "execution_count": 5,
   "id": "f7b4d8f1",
   "metadata": {},
   "outputs": [],
   "source": [
    "import pandas as pd\n",
    "import numpy as np\n",
    "\n",
    "from sklearn.ensemble import RandomForestRegressor\n",
    "from sklearn.metrics import mean_absolute_error, r2_score\n",
    "from sklearn.model_selection import train_test_split\n",
    "\n",
    "import joblib"
   ]
  },
  {
   "cell_type": "markdown",
   "id": "b5648bb6",
   "metadata": {},
   "source": [
    "# Dataset for comparison & Sample"
   ]
  },
  {
   "cell_type": "code",
   "execution_count": 42,
   "id": "c67452ca",
   "metadata": {},
   "outputs": [],
   "source": [
    "# Load dataset\n",
    "df = pd.read_csv(\"../Clean Data/Clean_Regression_Dataset_With_Cost.csv\")\n",
    "\n",
    "# Randomly sample 100 entries\n",
    "sample = df.sample(n=100, random_state=42).reset_index(drop=True)\n",
    "\n",
    "# Define functions\n",
    "def predict_climate_score(lat, lon, month):\n",
    "    query = np.array([[lat, lon, month]], dtype=float)\n",
    "    return float(climate_model.predict(query)[0])"
   ]
  },
  {
   "cell_type": "markdown",
   "id": "9e034611",
   "metadata": {},
   "source": [
    "# Climate Model Definition"
   ]
  },
  {
   "cell_type": "code",
   "execution_count": null,
   "id": "36232050",
   "metadata": {},
   "outputs": [],
   "source": [
    "# Load models\n",
    "climate_model_path = \"../Model/Exports/Climate Model/knn_model.joblib\"\n",
    "climate_model = joblib.load(climate_model_path)"
   ]
  },
  {
   "cell_type": "markdown",
   "id": "cafe908d",
   "metadata": {},
   "source": [
    "# Single Model"
   ]
  },
  {
   "cell_type": "code",
   "execution_count": 54,
   "id": "14e42449",
   "metadata": {},
   "outputs": [],
   "source": [
    "\n",
    "def predict_consumption_sm(lat, lon, lane_count, month):\n",
    "    consumption_model_path = \"../Model/Exports/Consumption Model/random_forest_consumption_model_location_lane_month.pkl\"\n",
    "    consumption_model = joblib.load(consumption_model_path)\n",
    "\n",
    "    query = pd.DataFrame([{\n",
    "        \"Latitude\": lat,\n",
    "        \"Longitude\": lon,\n",
    "        \"Lane Count\": lane_count,\n",
    "        \"Month\": month\n",
    "    }])\n",
    "    return float(consumption_model.predict(query)[0])"
   ]
  },
  {
   "cell_type": "markdown",
   "id": "0af34d84",
   "metadata": {},
   "source": [
    "### Calculate Accuracy (Single Model)"
   ]
  },
  {
   "cell_type": "code",
   "execution_count": 55,
   "id": "4281fd24",
   "metadata": {},
   "outputs": [
    {
     "name": "stdout",
     "output_type": "stream",
     "text": [
      "Mean Absolute Error (MAE): 46.82\n",
      "Approximate Accuracy: 97.00%\n"
     ]
    }
   ],
   "source": [
    "# Run predictions and store results\n",
    "predictions = []\n",
    "actuals = []\n",
    "\n",
    "for _, row in sample.iterrows():\n",
    "    pred = predict_consumption_sm(row[\"Latitude\"], row[\"Longitude\"], row[\"Lane Count\"], row[\"Month\"])\n",
    "    predictions.append(pred)\n",
    "    actuals.append(row[\"Estimated Monthly Consumption (kWh)\"])\n",
    "\n",
    "# Convert to numpy for metrics\n",
    "predictions = np.array(predictions)\n",
    "actuals = np.array(actuals)\n",
    "\n",
    "# Evaluate\n",
    "mae = mean_absolute_error(actuals, predictions)\n",
    "mean_actual = np.mean(actuals)\n",
    "accuracy = 1 - (mae / mean_actual)\n",
    "\n",
    "# Print Results\n",
    "print(f\"Mean Absolute Error (MAE): {mae:.2f}\")\n",
    "print(f\"Approximate Accuracy: {accuracy:.2%}\")"
   ]
  },
  {
   "cell_type": "markdown",
   "id": "ec8d4afb",
   "metadata": {},
   "source": [
    "# Dual Model"
   ]
  },
  {
   "cell_type": "code",
   "execution_count": 56,
   "id": "d10aeb84",
   "metadata": {},
   "outputs": [],
   "source": [
    "def predict_consumption_dm(lat, lon, lane_count, month):\n",
    "    consumption_model_path = \"../Model/Exports/Consumption Model/random_forest_consumption_model_location_month_lane_climate.pkl\"\n",
    "    consumption_model = joblib.load(consumption_model_path)\n",
    "\n",
    "    climate_score = predict_climate_score(lat, lon, month)\n",
    "    query = pd.DataFrame([{\n",
    "        \"Latitude\": lat,\n",
    "        \"Longitude\": lon,\n",
    "        \"Lane Count\": lane_count,\n",
    "        \"Month\": month,\n",
    "        \"ClimateType\": climate_score\n",
    "    }])\n",
    "    return float(consumption_model.predict(query)[0])"
   ]
  },
  {
   "cell_type": "markdown",
   "id": "d6857953",
   "metadata": {},
   "source": [
    "### Calculate Accuracy (Dual Model)"
   ]
  },
  {
   "cell_type": "code",
   "execution_count": null,
   "id": "7a470523",
   "metadata": {},
   "outputs": [
    {
     "name": "stdout",
     "output_type": "stream",
     "text": [
      "Mean Absolute Error (MAE): 38.18\n",
      "Approximate Accuracy: 97.57%\n"
     ]
    }
   ],
   "source": [
    "# Run predictions\n",
    "predictions = []\n",
    "actuals = []\n",
    "\n",
    "for _, row in sample.iterrows():\n",
    "    pred = predict_consumption_dm(row[\"Latitude\"], row[\"Longitude\"], row[\"Lane Count\"], row[\"Month\"])\n",
    "    predictions.append(pred)\n",
    "    actuals.append(row[\"Estimated Monthly Consumption (kWh)\"])\n",
    "\n",
    "# Convert to numpy for metrics\n",
    "predictions = np.array(predictions)\n",
    "actuals = np.array(actuals)\n",
    "\n",
    "# Evaluation\n",
    "mae = mean_absolute_error(actuals, predictions)\n",
    "mean_actual = np.mean(actuals)\n",
    "accuracy = 1 - (mae / mean_actual)\n",
    "\n",
    "# Output results\n",
    "print(f\"Mean Absolute Error (MAE): {mae:.2f}\")\n",
    "print(f\"Approximate Accuracy: {accuracy:.2%}\")"
   ]
  },
  {
   "cell_type": "markdown",
   "id": "53467f69",
   "metadata": {},
   "source": [
    "# Dual Minimal Model"
   ]
  },
  {
   "cell_type": "code",
   "execution_count": 58,
   "id": "ccef926b",
   "metadata": {},
   "outputs": [],
   "source": [
    "# Define functions\n",
    "def predict_consumption_dmm(lat, lon, month, lane_count):\n",
    "    consumption_model_path = \"../Model/Exports/Consumption Model/random_forest_consumption_model_lane_climate.pkl\"\n",
    "    consumption_model = joblib.load(consumption_model_path)\n",
    "\n",
    "    climate_score = predict_climate_score(lat, lon, month)\n",
    "    query = pd.DataFrame([{\n",
    "        \"Lane Count\": lane_count,\n",
    "        \"ClimateType\": climate_score\n",
    "    }])\n",
    "    return float(consumption_model.predict(query)[0])"
   ]
  },
  {
   "cell_type": "code",
   "execution_count": 59,
   "id": "2d5a4794",
   "metadata": {},
   "outputs": [
    {
     "name": "stdout",
     "output_type": "stream",
     "text": [
      "Mean Absolute Error (MAE): 124.44\n",
      "Approximate Accuracy: 92.09%\n"
     ]
    }
   ],
   "source": [
    "# Run predictions and store results\n",
    "predictions = []\n",
    "actuals = []\n",
    "\n",
    "for _, row in sample.iterrows():\n",
    "    pred = predict_consumption_dmm(row[\"Latitude\"], row[\"Longitude\"], row[\"Month\"], row[\"Lane Count\"])\n",
    "    predictions.append(pred)\n",
    "    actuals.append(row[\"Estimated Monthly Consumption (kWh)\"])\n",
    "\n",
    "# Evaluation\n",
    "predictions = np.array(predictions)\n",
    "actuals = np.array(actuals)\n",
    "mae = mean_absolute_error(actuals, predictions)\n",
    "mean_actual = np.mean(actuals)\n",
    "accuracy = 1 - (mae / mean_actual)\n",
    "\n",
    "# Output\n",
    "print(f\"Mean Absolute Error (MAE): {mae:.2f}\")\n",
    "print(f\"Approximate Accuracy: {accuracy:.2%}\")"
   ]
  },
  {
   "cell_type": "markdown",
   "id": "8a1b936b",
   "metadata": {},
   "source": [
    "# Evaluate Models"
   ]
  },
  {
   "cell_type": "markdown",
   "id": "72c639ec",
   "metadata": {},
   "source": [
    "## Precalculated Values"
   ]
  },
  {
   "cell_type": "code",
   "execution_count": 67,
   "id": "1b7629fa",
   "metadata": {},
   "outputs": [
    {
     "data": {
      "image/png": "[encoded data removed]",
      "text/plain": [
       "<Figure size 1000x500 with 1 Axes>"
      ]
     },
     "metadata": {},
     "output_type": "display_data"
    },
    {
     "data": {
      "image/png": "[encoded data removed]",
      "text/plain": [
       "<Figure size 1000x500 with 1 Axes>"
      ]
     },
     "metadata": {},
     "output_type": "display_data"
    }
   ],
   "source": [
    "import matplotlib.pyplot as plt\n",
    "import numpy as np\n",
    "\n",
    "# Define metrics\n",
    "metrics = {\n",
    "    \"SM\": {\"MAE\": 59.26, \"R2\": 0.93},\n",
    "    \"DM\": {\"MAE\": 71.11, \"R2\": 0.90},\n",
    "    \"MDM\": {\"MAE\": 278.89, \"R2\": -0.02}\n",
    "}\n",
    "\n",
    "# Extract values\n",
    "models = list(metrics.keys())\n",
    "mae_values = [metrics[m][\"MAE\"] for m in models]\n",
    "r2_values = [metrics[m][\"R2\"] * 100 for m in models]  # Convert to %\n",
    "\n",
    "# Plot MAE\n",
    "plt.figure(figsize=(10, 5))\n",
    "plt.bar(models, mae_values, color='tomato')\n",
    "plt.ylabel(\"Mean Absolute Error (MAE)\")\n",
    "plt.title(\"Model MAE Comparison\")\n",
    "for i, val in enumerate(mae_values):\n",
    "    plt.text(i, val + 5, f\"{val:.2f}\", ha='center', va='bottom')\n",
    "plt.ylim(0, max(mae_values) + 30)\n",
    "plt.tight_layout()\n",
    "plt.show()\n",
    "\n",
    "# Plot R²\n",
    "plt.figure(figsize=(10, 5))\n",
    "plt.bar(models, r2_values, color='steelblue')\n",
    "plt.ylabel(\"R² Score (%)\")\n",
    "plt.title(\"Model R² Comparison\")\n",
    "for i, val in enumerate(r2_values):\n",
    "    plt.text(i, val + 2, f\"{val:.2f}%\", ha='center', va='bottom')\n",
    "plt.ylim(min(r2_values) - 10, 110)\n",
    "plt.tight_layout()\n",
    "plt.show()\n"
   ]
  },
  {
   "cell_type": "markdown",
   "id": "7040dc94",
   "metadata": {},
   "source": [
    "## Freshly Calculated"
   ]
  },
  {
   "cell_type": "code",
   "execution_count": 60,
   "id": "3edcc905",
   "metadata": {},
   "outputs": [],
   "source": [
    "from sklearn.metrics import mean_absolute_error\n",
    "import numpy as np\n",
    "\n",
    "def evaluate_models(dataset):\n",
    "    results = {}\n",
    "\n",
    "    # Sample 100 rows from dataset\n",
    "    sample = dataset.sample(n=100, random_state=42).reset_index(drop=True)\n",
    "\n",
    "    # Loop over models\n",
    "    for name, func in {\n",
    "        \"SM\": predict_consumption_sm,\n",
    "        \"DM\": predict_consumption_dm,\n",
    "        \"DMM\": predict_consumption_dmm\n",
    "    }.items():\n",
    "        predictions = []\n",
    "        actuals = []\n",
    "\n",
    "        for _, row in sample.iterrows():\n",
    "            lat = row[\"Latitude\"]\n",
    "            lon = row[\"Longitude\"]\n",
    "            lane = row[\"Lane Count\"]\n",
    "            month = row[\"Month\"]\n",
    "            actual = row[\"Estimated Monthly Consumption (kWh)\"]\n",
    "\n",
    "            if name == \"DMM\":\n",
    "                pred = func(lat, lon, month, lane)\n",
    "            else:\n",
    "                pred = func(lat, lon, lane, month)\n",
    "\n",
    "            predictions.append(pred)\n",
    "            actuals.append(actual)\n",
    "\n",
    "        mae = mean_absolute_error(actuals, predictions)\n",
    "        mean_actual = np.mean(actuals)\n",
    "        accuracy = 1 - (mae / mean_actual)\n",
    "        results[name] = {\"MAE\": mae, \"Accuracy\": accuracy}\n",
    "\n",
    "    return results\n"
   ]
  },
  {
   "cell_type": "code",
   "execution_count": 68,
   "id": "a2f9d6bd",
   "metadata": {},
   "outputs": [],
   "source": [
    "df = pd.read_csv(\"../Clean Data/regression_dataset.csv\")\n",
    "metrics = evaluate_models(df)"
   ]
  },
  {
   "cell_type": "code",
   "execution_count": 64,
   "id": "cde712c8",
   "metadata": {},
   "outputs": [
    {
     "data": {
      "image/png": "[encoded data removed]",
      "text/plain": [
       "<Figure size 800x600 with 1 Axes>"
      ]
     },
     "metadata": {},
     "output_type": "display_data"
    }
   ],
   "source": [
    "import matplotlib.pyplot as plt\n",
    "import numpy as np\n",
    "\n",
    "# Accuracy data\n",
    "models = list(metrics.keys())\n",
    "accuracies = [metrics[m]['Accuracy'] * 100 for m in models]\n",
    "\n",
    "# Custom scale function (squash values < 80, stretch > 80)\n",
    "def scale_accuracy(val):\n",
    "    if val <= 80:\n",
    "        return val * 0.6  # compress lower part\n",
    "    else:\n",
    "        return 48 + (val - 80) * 2.6  # stretch upper part\n",
    "\n",
    "scaled_accuracies = [scale_accuracy(v) for v in accuracies]\n",
    "\n",
    "# Plot\n",
    "plt.figure(figsize=(8, 6))\n",
    "bars = plt.bar(models, scaled_accuracies, color='skyblue')\n",
    "\n",
    "# Custom Y-axis ticks (real values, not scaled)\n",
    "yticks_real = [0, 20, 40, 60, 80, 85, 90, 95, 100]\n",
    "yticks_scaled = [scale_accuracy(y) for y in yticks_real]\n",
    "plt.yticks(yticks_scaled, [f\"{y}%\" for y in yticks_real])\n",
    "plt.ylabel(\"Accuracy (%)\")\n",
    "plt.title(\"Model Accuracy Comparison (Stretched Scale)\")\n",
    "\n",
    "# Annotate real values on bars\n",
    "for i, val in enumerate(accuracies):\n",
    "    plt.text(i, scale_accuracy(val) + 1, f\"{val:.2f}%\", ha='center', va='bottom')\n",
    "\n",
    "plt.ylim(0, max(scaled_accuracies) + 5)\n",
    "plt.show()\n"
   ]
  },
  {
   "cell_type": "code",
   "execution_count": null,
   "id": "69f316d2",
   "metadata": {},
   "outputs": [],
   "source": []
  }
 ],
 "metadata": {
  "kernelspec": {
   "display_name": "MachineLearning",
   "language": "python",
   "name": "python3"
  },
  "language_info": {
   "codemirror_mode": {
    "name": "ipython",
    "version": 3
   },
   "file_extension": ".py",
   "mimetype": "text/x-python",
   "name": "python",
   "nbconvert_exporter": "python",
   "pygments_lexer": "ipython3",
   "version": "3.12.9"
  }
 },
 "nbformat": 4,
 "nbformat_minor": 5
}
