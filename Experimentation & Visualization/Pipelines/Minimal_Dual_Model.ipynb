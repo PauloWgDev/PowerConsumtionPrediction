{
 "cells": [
  {
   "cell_type": "markdown",
   "id": "9724d430",
   "metadata": {},
   "source": [
    "## Minimal Dual Model Approach\n",
    "This approach uses each input variable only once but uses both models for prediction:\n",
    "- Climate Model\n",
    "- Consumption Model\n",
    "\n",
    "In this version the climate model takes as input Latitude, Longitude and Month, giving a climate score as output.\n",
    "Then the consumption model only takes as input the climate score and lane count"
   ]
  },
  {
   "cell_type": "code",
   "execution_count": null,
   "id": "4d2e8714",
   "metadata": {},
   "outputs": [],
   "source": [
    "import numpy as np\n",
    "import pandas as pd\n",
    "import joblib\n",
    "\n",
    "# Load models\n",
    "climate_model_path = \"../../Model/Exports/Climate Model/knn_model.joblib\"\n",
    "climate_model = joblib.load(climate_model_path)\n",
    "\n",
    "consumption_model_path = \"../../Model/Exports/Consumption Model/consumption_minimal_or_whatever.joblib\"\n",
    "consumption_model = joblib.load(consumption_model_path)\n",
    "\n",
    "# Define functions\n",
    "def predict_climate_score(lat, lon, month):\n",
    "    query = np.array([[lat, lon, month]], dtype=float)\n",
    "    return float(climate_model.predict(query)[0])\n",
    "\n",
    "def predict_consumption(lat, lon, month, lane_count):\n",
    "    climate_score = predict_climate_score(lat, lon, month)\n",
    "    query = np.array([[lane_count, climate_score]])\n",
    "    return float(consumption_model.predict(query)[0])\n",
    "\n",
    "def predict_consumption_year(lat, lon, lane_count):\n",
    "    monthly_consumption = []\n",
    "    total = 0\n",
    "    for i in range(1, 13):\n",
    "        consumption = predict_consumption(lat, lon, i, lane_count)\n",
    "        total += consumption\n",
    "        monthly_consumption.append(consumption)\n",
    "    return {\"Total\": total, \"Monthly\": monthly_consumption}"
   ]
  },
  {
   "cell_type": "markdown",
   "id": "564902c1",
   "metadata": {},
   "source": []
  }
 ],
 "metadata": {
  "language_info": {
   "name": "python"
  }
 },
 "nbformat": 4,
 "nbformat_minor": 5
}
