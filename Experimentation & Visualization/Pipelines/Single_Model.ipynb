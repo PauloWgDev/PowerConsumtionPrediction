{
 "cells": [
  {
   "cell_type": "markdown",
   "id": "9724d430",
   "metadata": {},
   "source": [
    "## Single Model Approach\n",
    "This approach uses a single Consumption model to compute the prediction.\n",
    "Taking as input Latitude, Longitude, Month and Lane Count"
   ]
  },
  {
   "cell_type": "code",
   "execution_count": 5,
   "id": "4d2e8714",
   "metadata": {},
   "outputs": [],
   "source": [
    "import numpy as np\n",
    "import pandas as pd\n",
    "import joblib\n",
    "from sklearn.metrics import mean_absolute_error, mean_squared_error, r2_score\n",
    "\n",
    "# Load model\n",
    "consumption_model_path = \"../../Model/Exports/Consumption Model/random_forest_consumption_model_location_lane_month.pkl\"\n",
    "consumption_model = joblib.load(consumption_model_path)\n",
    "\n",
    "def predict_consumption(lat, lon, lane_count, month):\n",
    "    query = pd.DataFrame([{\n",
    "        \"Latitude\": lat,\n",
    "        \"Longitude\": lon,\n",
    "        \"Lane Count\": lane_count,\n",
    "        \"Month\": month,\n",
    "    }])\n",
    "\n",
    "    return float(consumption_model.predict(query)[0])\n",
    "\n",
    "def predict_consumption_year(lat, lon, lane_count):\n",
    "    monthly_consumption = []\n",
    "    total = 0\n",
    "    for i in range(1, 13):\n",
    "        consumption = predict_consumption(lat, lon, lane_count, i)\n",
    "        total += consumption\n",
    "        monthly_consumption.append(consumption)\n",
    "    return {\"Total\": total, \"Monthly\": monthly_consumption}\n",
    "\n",
    "# Performs a test from an input dataset following the clean format\n",
    "def test_model(data):\n",
    "    X = data[[\"Latitude\", \"Longitude\", \"Lane Count\", \"Month\"]]\n",
    "    y_true = data[\"Estimated Monthly Consumption (kWh)\"]\n",
    "    \n",
    "    # Make predictions row by row\n",
    "    y_pred = X.apply(lambda row: predict_consumption(\n",
    "        row[\"Latitude\"], row[\"Longitude\"], row[\"Lane Count\"], row[\"Month\"]\n",
    "    ), axis=1)\n",
    "\n",
    "    # Compute evaluation metrics\n",
    "    mae = mean_absolute_error(y_true, y_pred)\n",
    "    mse = mean_squared_error(y_true, y_pred)\n",
    "    r2 = r2_score(y_true, y_pred)\n",
    "\n",
    "    return {\n",
    "        \"X\": X,\n",
    "        \"Y\": y_true,\n",
    "        \"Prediction\": y_pred,\n",
    "        \"MAE\": mae,\n",
    "        \"MSE\": mse,\n",
    "        \"R2\": r2\n",
    "    }\n"
   ]
  },
  {
   "cell_type": "markdown",
   "id": "f5f1ae88",
   "metadata": {},
   "source": [
    "## Run"
   ]
  },
  {
   "cell_type": "code",
   "execution_count": 6,
   "id": "16465054",
   "metadata": {},
   "outputs": [
    {
     "name": "stdout",
     "output_type": "stream",
     "text": [
      "1178.4033333333334\n"
     ]
    }
   ],
   "source": [
    "# Example run\n",
    "month = 4\n",
    "consumption = predict_consumption(125.07623, 121.419053, 3, month=month)\n",
    "\n",
    "print(consumption)"
   ]
  },
  {
   "cell_type": "markdown",
   "id": "a5b3b5d8",
   "metadata": {},
   "source": [
    "## Test"
   ]
  },
  {
   "cell_type": "code",
   "execution_count": 8,
   "id": "51a364e0",
   "metadata": {},
   "outputs": [
    {
     "name": "stdout",
     "output_type": "stream",
     "text": [
      "0.9244225551958796\n"
     ]
    }
   ],
   "source": [
    "path = \"../../Clean Data/Clean_Electricity_Data_With_Cost.csv\"\n",
    "df = pd.read_csv(path)\n",
    "\n",
    "print(test_model(df)[\"R2\"])"
   ]
  },
  {
   "cell_type": "markdown",
   "id": "27dd0c9c",
   "metadata": {},
   "source": [
    "# Estimate Cost"
   ]
  },
  {
   "cell_type": "code",
   "execution_count": 2,
   "id": "c14f851d",
   "metadata": {},
   "outputs": [
    {
     "data": {
      "text/plain": [
       "<module 'Const_Estimation' from 'd:\\\\Power_Consumption_Machine_Learning\\\\PowerConsumtionPrediction\\\\Experimentation & Visualization\\\\Pipelines\\\\Const_Estimation.py'>"
      ]
     },
     "execution_count": 2,
     "metadata": {},
     "output_type": "execute_result"
    }
   ],
   "source": [
    "import sys\n",
    "sys.path.append('Cost_Estimation.py')\n",
    "import Const_Estimation as cost\n",
    "\n",
    "import importlib \n",
    "importlib.reload(cost)\n"
   ]
  },
  {
   "cell_type": "code",
   "execution_count": 8,
   "id": "00f04a41",
   "metadata": {},
   "outputs": [
    {
     "name": "stdout",
     "output_type": "stream",
     "text": [
      "Estimated Cost:  3479.89\n"
     ]
    }
   ],
   "source": [
    "estimated_cost = cost.calculate_electricity_bill(month=month, consumption_kwh=consumption)\n",
    "\n",
    "print(\"Estimated Cost: \", estimated_cost)"
   ]
  },
  {
   "cell_type": "code",
   "execution_count": null,
   "id": "cf7acece",
   "metadata": {},
   "outputs": [],
   "source": []
  }
 ],
 "metadata": {
  "kernelspec": {
   "display_name": "MachineLearning",
   "language": "python",
   "name": "python3"
  },
  "language_info": {
   "codemirror_mode": {
    "name": "ipython",
    "version": 3
   },
   "file_extension": ".py",
   "mimetype": "text/x-python",
   "name": "python",
   "nbconvert_exporter": "python",
   "pygments_lexer": "ipython3",
   "version": "3.12.9"
  }
 },
 "nbformat": 4,
 "nbformat_minor": 5
}
