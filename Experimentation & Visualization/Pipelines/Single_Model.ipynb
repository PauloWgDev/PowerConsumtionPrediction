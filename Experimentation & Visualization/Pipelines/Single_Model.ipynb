{
 "cells": [
  {
   "cell_type": "markdown",
   "id": "9724d430",
   "metadata": {},
   "source": [
    "## Single Model Approach\n",
    "This approach uses a single Consumption model to compute the prediction.\n",
    "Taking as input Latitude, Longitude, Month and Lane Count"
   ]
  },
  {
   "cell_type": "code",
   "execution_count": null,
   "id": "4d2e8714",
   "metadata": {},
   "outputs": [],
   "source": [
    "import numpy as np\n",
    "import pandas as pd\n",
    "import joblib\n",
    "\n",
    "# Load model\n",
    "consumption_model_path = \"../../Model/Exports/Consumption Model/random_forest_consumption_model_location_lane_month.pkl\"\n",
    "consumption_model = joblib.load(consumption_model_path)\n",
    "\n",
    "def predict_consumption(lat, lon, lane_count, month):\n",
    "    query = np.array([[lat, lon, lane_count, month]])\n",
    "    return float(consumption_model.predict(query)[0])\n",
    "\n",
    "def predict_consumption_year(lat, lon, lane_count):\n",
    "    monthly_consumption = []\n",
    "    total = 0\n",
    "    for i in range(1, 13):\n",
    "        consumption = predict_consumption(lat, lon, lane_count, i)\n",
    "        total += consumption\n",
    "        monthly_consumption.append(consumption)\n",
    "    return {\"Total\": total, \"Monthly\": monthly_consumption}"
   ]
  },
  {
   "cell_type": "markdown",
   "id": "f5f1ae88",
   "metadata": {},
   "source": [
    "## Run"
   ]
  },
  {
   "cell_type": "code",
   "execution_count": 6,
   "id": "16465054",
   "metadata": {},
   "outputs": [
    {
     "name": "stdout",
     "output_type": "stream",
     "text": [
      "1178.4033333333334\n"
     ]
    },
    {
     "name": "stderr",
     "output_type": "stream",
     "text": [
      "d:\\Anaconda\\Anaconda\\envs\\MachineLearning\\Lib\\site-packages\\sklearn\\utils\\validation.py:2739: UserWarning: X does not have valid feature names, but RandomForestRegressor was fitted with feature names\n",
      "  warnings.warn(\n"
     ]
    }
   ],
   "source": [
    "# Example run\n",
    "month = 4\n",
    "consumption = predict_consumption(125.07623, 121.419053, 3, month=month)\n",
    "\n",
    "print(consumption)"
   ]
  },
  {
   "cell_type": "markdown",
   "id": "27dd0c9c",
   "metadata": {},
   "source": [
    "# Estimate Cost"
   ]
  },
  {
   "cell_type": "code",
   "execution_count": 2,
   "id": "c14f851d",
   "metadata": {},
   "outputs": [
    {
     "data": {
      "text/plain": [
       "<module 'Const_Estimation' from 'd:\\\\Power_Consumption_Machine_Learning\\\\PowerConsumtionPrediction\\\\Experimentation & Visualization\\\\Pipelines\\\\Const_Estimation.py'>"
      ]
     },
     "execution_count": 2,
     "metadata": {},
     "output_type": "execute_result"
    }
   ],
   "source": [
    "import sys\n",
    "sys.path.append('Cost_Estimation.py')\n",
    "import Const_Estimation as cost\n",
    "\n",
    "import importlib \n",
    "importlib.reload(cost)\n"
   ]
  },
  {
   "cell_type": "code",
   "execution_count": 8,
   "id": "00f04a41",
   "metadata": {},
   "outputs": [
    {
     "name": "stdout",
     "output_type": "stream",
     "text": [
      "Estimated Cost:  3479.89\n"
     ]
    }
   ],
   "source": [
    "estimated_cost = cost.calculate_electricity_bill(month=month, consumption_kwh=consumption)\n",
    "\n",
    "print(\"Estimated Cost: \", estimated_cost)"
   ]
  },
  {
   "cell_type": "code",
   "execution_count": null,
   "id": "cf7acece",
   "metadata": {},
   "outputs": [],
   "source": []
  }
 ],
 "metadata": {
  "kernelspec": {
   "display_name": "MachineLearning",
   "language": "python",
   "name": "python3"
  },
  "language_info": {
   "codemirror_mode": {
    "name": "ipython",
    "version": 3
   },
   "file_extension": ".py",
   "mimetype": "text/x-python",
   "name": "python",
   "nbconvert_exporter": "python",
   "pygments_lexer": "ipython3",
   "version": "3.12.9"
  }
 },
 "nbformat": 4,
 "nbformat_minor": 5
}
