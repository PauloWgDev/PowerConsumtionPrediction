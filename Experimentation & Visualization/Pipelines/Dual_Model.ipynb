{
 "cells": [
  {
   "cell_type": "markdown",
   "id": "9724d430",
   "metadata": {},
   "source": [
    "## Dual Model Approach\n",
    "This approach uses each input variable every time it can in both models for prediction:\n",
    "- Climate Model\n",
    "- Consumption Model\n",
    "\n",
    "In this version the climate model takes as input Latitude, Longitude and Month, giving a climate score as output.\n",
    "Then the consumption model takes as input the Latitude, Longitude, Month, climate score and lane count"
   ]
  },
  {
   "cell_type": "code",
   "execution_count": null,
   "id": "4d2e8714",
   "metadata": {},
   "outputs": [],
   "source": [
    "import numpy as np\n",
    "import pandas as pd\n",
    "import joblib\n",
    "from sklearn.metrics import mean_absolute_error, mean_squared_error, r2_score\n",
    "\n",
    "\n",
    "# Load models\n",
    "climate_model_path = \"../../Model/Exports/Climate Model/knn_model.joblib\"\n",
    "climate_model = joblib.load(climate_model_path)\n",
    "\n",
    "consumption_model_path = \"../../Model/Exports/Consumption Model/random_forest_consumption_model_location_month_lane_climate.pkl\"\n",
    "consumption_model = joblib.load(consumption_model_path)\n",
    "\n",
    "# Define functions\n",
    "def predict_climate_score(lat, lon, month):\n",
    "    query = np.array([[lat, lon, month]], dtype=float)\n",
    "    return float(climate_model.predict(query)[0])\n",
    "\n",
    "def predict_consumption(lat, lon, lane_count, month):\n",
    "    climate_score = predict_climate_score(lat, lon, month)\n",
    "    query = pd.DataFrame([{\n",
    "        \"Latitude\": lat,\n",
    "        \"Longitude\": lon,\n",
    "        \"Lane Count\": lane_count,\n",
    "        \"Month\": month,\n",
    "        \"ClimateType\": climate_score\n",
    "    }])\n",
    "\n",
    "    return float(consumption_model.predict(query)[0])\n",
    "\n",
    "def predict_consumption_year(lat, lon, lane_count):\n",
    "    monthly_consumption = []\n",
    "    total = 0\n",
    "    for i in range(1, 13):\n",
    "        consumption = predict_consumption(lat, lon, lane_count, i)\n",
    "        total += consumption\n",
    "        monthly_consumption.append(consumption)\n",
    "    return {\"Total\": total, \"Monthly\": monthly_consumption}\n",
    "\n",
    "\n",
    "import sys\n",
    "sys.path.append('Cost_Estimation.py')\n",
    "import Const_Estimation as cost\n",
    "\n",
    "import importlib \n",
    "importlib.reload(cost)\n",
    "\n",
    "# Performs a test from an input dataset following the clean format\n",
    "def test_model(data):\n",
    "    X = data[[\"Latitude\", \"Longitude\", \"Lane Count\", \"Month\"]]\n",
    "    \n",
    "    y_true_consumption = data[\"Estimated Monthly Consumption (kWh)\"]\n",
    "    y_true_cost = data[\"Estimated Monthly Amount (Before Tax)\"]\n",
    "\n",
    "    # Predict monthly consumption\n",
    "    y_pred_consumption = X.apply(lambda row: predict_consumption(\n",
    "        row[\"Latitude\"], row[\"Longitude\"], row[\"Lane Count\"], row[\"Month\"]\n",
    "    ), axis=1)\n",
    "\n",
    "    # Predict monthly cost using predicted consumption\n",
    "    y_pred_cost = X.copy()\n",
    "    y_pred_cost[\"Predicted Consumption\"] = y_pred_consumption\n",
    "    y_pred_cost = y_pred_cost.apply(lambda row: cost.calculate_electricity_bill(\n",
    "        int(row[\"Month\"]), float(row[\"Predicted Consumption\"])\n",
    "    ), axis=1)\n",
    "\n",
    "    # Compute metrics for consumption\n",
    "    mae_c = mean_absolute_error(y_true_consumption, y_pred_consumption)\n",
    "    mse_c = mean_squared_error(y_true_consumption, y_pred_consumption)\n",
    "    r2_c = r2_score(y_true_consumption, y_pred_consumption)\n",
    "\n",
    "    # Compute metrics for cost\n",
    "    mae_cost = mean_absolute_error(y_true_cost, y_pred_cost)\n",
    "    mse_cost = mean_squared_error(y_true_cost, y_pred_cost)\n",
    "    r2_cost = r2_score(y_true_cost, y_pred_cost)\n",
    "\n",
    "    return {\n",
    "        \"Consumption\": {\n",
    "            \"X\": X,\n",
    "            \"Y\": y_true_consumption,\n",
    "            \"Prediction\": y_pred_consumption,\n",
    "            \"MAE\": mae_c,\n",
    "            \"MSE\": mse_c,\n",
    "            \"R2\": r2_c\n",
    "        },\n",
    "        \"Cost\": {\n",
    "            \"Y\": y_true_cost,\n",
    "            \"Prediction\": y_pred_cost,\n",
    "            \"MAE\": mae_cost,\n",
    "            \"MSE\": mse_cost,\n",
    "            \"R2\": r2_cost\n",
    "        }\n",
    "    }\n",
    "\n",
    "    \n"
   ]
  },
  {
   "cell_type": "markdown",
   "id": "f5f1ae88",
   "metadata": {},
   "source": [
    "## Run"
   ]
  },
  {
   "cell_type": "code",
   "execution_count": 9,
   "id": "16465054",
   "metadata": {},
   "outputs": [
    {
     "data": {
      "text/plain": [
       "1095.905"
      ]
     },
     "execution_count": 9,
     "metadata": {},
     "output_type": "execute_result"
    }
   ],
   "source": [
    "# Example run\n",
    "predict_consumption(125.07623, 121.419053, 3, 4)"
   ]
  },
  {
   "cell_type": "markdown",
   "id": "a65cc2cd",
   "metadata": {},
   "source": [
    "## Test"
   ]
  },
  {
   "cell_type": "code",
   "execution_count": 10,
   "id": "4a821a07",
   "metadata": {},
   "outputs": [
    {
     "name": "stdout",
     "output_type": "stream",
     "text": [
      "Consumption R2:  0.9347905224611793\n",
      "Cost R2:  0.7356168276239905\n"
     ]
    }
   ],
   "source": [
    "path = \"../../Clean Data/Clean_Electricity_Data_With_Cost.csv\"\n",
    "df = pd.read_csv(path)\n",
    "\n",
    "results = test_model(df)\n",
    "\n",
    "print(\"Consumption R2: \", results[\"Consumption\"][\"R2\"])\n",
    "print(\"Cost R2: \", results[\"Cost\"][\"R2\"])"
   ]
  }
 ],
 "metadata": {
  "kernelspec": {
   "display_name": "MachineLearning",
   "language": "python",
   "name": "python3"
  },
  "language_info": {
   "codemirror_mode": {
    "name": "ipython",
    "version": 3
   },
   "file_extension": ".py",
   "mimetype": "text/x-python",
   "name": "python",
   "nbconvert_exporter": "python",
   "pygments_lexer": "ipython3",
   "version": "3.12.9"
  }
 },
 "nbformat": 4,
 "nbformat_minor": 5
}
