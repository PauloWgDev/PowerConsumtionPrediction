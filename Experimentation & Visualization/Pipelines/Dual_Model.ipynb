{
 "cells": [
  {
   "cell_type": "markdown",
   "id": "9724d430",
   "metadata": {},
   "source": [
    "## Dual Model Approach\n",
    "This approach uses each input variable every time it can in both models for prediction:\n",
    "- Climate Model\n",
    "- Consumption Model\n",
    "\n",
    "In this version the climate model takes as input Latitude, Longitude and Month, giving a climate score as output.\n",
    "Then the consumption model takes as input the Latitude, Longitude, Month, climate score and lane count"
   ]
  },
  {
   "cell_type": "code",
   "execution_count": null,
   "id": "4d2e8714",
   "metadata": {},
   "outputs": [],
   "source": [
    "import numpy as np\n",
    "import pandas as pd\n",
    "import joblib\n",
    "from sklearn.metrics import mean_absolute_error, mean_squared_error, r2_score\n",
    "\n",
    "# Load models\n",
    "climate_model_path = \"../../Model/Exports/Climate Model/knn_model.joblib\"\n",
    "climate_model = joblib.load(climate_model_path)\n",
    "\n",
    "consumption_model_path = \"../../Model/Exports/Consumption Model/random_forest_consumption_model_location_month_lane_climate.pkl\"\n",
    "consumption_model = joblib.load(consumption_model_path)\n",
    "\n",
    "# Define functions\n",
    "def predict_climate_score(lat, lon, month):\n",
    "    query = np.array([[lat, lon, month]], dtype=float)\n",
    "    return float(climate_model.predict(query)[0])\n",
    "\n",
    "def predict_consumption(lat, lon, lane_count, month):\n",
    "    climate_score = predict_climate_score(lat, lon, month)\n",
    "    query = pd.DataFrame([{\n",
    "        \"Latitude\": lat,\n",
    "        \"Longitude\": lon,\n",
    "        \"Lane Count\": lane_count,\n",
    "        \"Month\": month,\n",
    "        \"ClimateType\": climate_score\n",
    "    }])\n",
    "\n",
    "    return float(consumption_model.predict(query)[0])\n",
    "\n",
    "def predict_consumption_year(lat, lon, lane_count):\n",
    "    monthly_consumption = []\n",
    "    total = 0\n",
    "    for i in range(1, 13):\n",
    "        consumption = predict_consumption(lat, lon, lane_count, i)\n",
    "        total += consumption\n",
    "        monthly_consumption.append(consumption)\n",
    "    return {\"Total\": total, \"Monthly\": monthly_consumption}\n",
    "\n",
    "\n",
    "# Performs a test from an input dataset following the clean format\n",
    "def test_model(data):\n",
    "    X = data[[\"Latitude\", \"Longitude\", \"Lane Count\", \"Month\"]]\n",
    "    y_true = data[\"Estimated Monthly Consumption (kWh)\"]\n",
    "    \n",
    "    # Make predictions row by row\n",
    "    y_pred = X.apply(lambda row: predict_consumption(\n",
    "        row[\"Latitude\"], row[\"Longitude\"], row[\"Lane Count\"], row[\"Month\"]\n",
    "    ), axis=1)\n",
    "\n",
    "    # Compute evaluation metrics\n",
    "    mae = mean_absolute_error(y_true, y_pred)\n",
    "    mse = mean_squared_error(y_true, y_pred)\n",
    "    r2 = r2_score(y_true, y_pred)\n",
    "\n",
    "    return {\n",
    "        \"X\": X,\n",
    "        \"Y\": y_true,\n",
    "        \"Prediction\": y_pred,\n",
    "        \"MAE\": mae,\n",
    "        \"MSE\": mse,\n",
    "        \"R2\": r2\n",
    "    }\n",
    "\n",
    "    \n"
   ]
  },
  {
   "cell_type": "markdown",
   "id": "f5f1ae88",
   "metadata": {},
   "source": [
    "## Run"
   ]
  },
  {
   "cell_type": "code",
   "execution_count": 2,
   "id": "16465054",
   "metadata": {},
   "outputs": [
    {
     "data": {
      "text/plain": [
       "1095.905"
      ]
     },
     "execution_count": 2,
     "metadata": {},
     "output_type": "execute_result"
    }
   ],
   "source": [
    "# Example run\n",
    "predict_consumption(125.07623, 121.419053, 3, 4)"
   ]
  },
  {
   "cell_type": "markdown",
   "id": "a65cc2cd",
   "metadata": {},
   "source": [
    "## Test"
   ]
  },
  {
   "cell_type": "code",
   "execution_count": 3,
   "id": "4a821a07",
   "metadata": {},
   "outputs": [
    {
     "ename": "TypeError",
     "evalue": "test_model() missing 1 required positional argument: 'data'",
     "output_type": "error",
     "traceback": [
      "\u001b[1;31m---------------------------------------------------------------------------\u001b[0m",
      "\u001b[1;31mTypeError\u001b[0m                                 Traceback (most recent call last)",
      "Cell \u001b[1;32mIn[3], line 4\u001b[0m\n\u001b[0;32m      1\u001b[0m path \u001b[38;5;241m=\u001b[39m \u001b[38;5;124m\"\u001b[39m\u001b[38;5;124m../../Clean Data/Clean_Electricity_Data_With_Cost.csv\u001b[39m\u001b[38;5;124m\"\u001b[39m\n\u001b[0;32m      2\u001b[0m df \u001b[38;5;241m=\u001b[39m pd\u001b[38;5;241m.\u001b[39mread_csv(path)\n\u001b[1;32m----> 4\u001b[0m \u001b[38;5;28mprint\u001b[39m(test_model(df)[\u001b[38;5;124m\"\u001b[39m\u001b[38;5;124mR2\u001b[39m\u001b[38;5;124m\"\u001b[39m])\n",
      "\u001b[1;31mTypeError\u001b[0m: test_model() missing 1 required positional argument: 'data'"
     ]
    }
   ],
   "source": [
    "path = \"../../Clean Data/Clean_Electricity_Data_With_Cost.csv\"\n",
    "df = pd.read_csv(path)\n",
    "\n",
    "print(test_model(df)[\"R2\"])"
   ]
  }
 ],
 "metadata": {
  "kernelspec": {
   "display_name": "MachineLearning",
   "language": "python",
   "name": "python3"
  },
  "language_info": {
   "codemirror_mode": {
    "name": "ipython",
    "version": 3
   },
   "file_extension": ".py",
   "mimetype": "text/x-python",
   "name": "python",
   "nbconvert_exporter": "python",
   "pygments_lexer": "ipython3",
   "version": "3.12.9"
  }
 },
 "nbformat": 4,
 "nbformat_minor": 5
}
